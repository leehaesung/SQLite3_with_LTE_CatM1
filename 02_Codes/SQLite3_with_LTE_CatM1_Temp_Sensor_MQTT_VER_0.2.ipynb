{
 "cells": [
  {
   "cell_type": "markdown",
   "metadata": {},
   "source": [
    "# 주피터 노트북(파이썬)으로 온도 데이타를 SQL에 저장하고 시계열분석하기"
   ]
  },
  {
   "cell_type": "markdown",
   "metadata": {},
   "source": [
    "<img src=\"https://raw.githubusercontent.com/leehaesung/SQLite3_with_LTE_CatM1/master/01_Images/01_Setting.png\" height=\"400\" width=\"450\" >"
   ]
  },
  {
   "cell_type": "markdown",
   "metadata": {},
   "source": [
    "* How to install Paho-MQTT :\n",
    "```\n",
    "sudo pip install paho-mqtt\n",
    "```"
   ]
  },
  {
   "cell_type": "code",
   "execution_count": null,
   "metadata": {},
   "outputs": [],
   "source": [
    "!pip install paho-mqtt"
   ]
  },
  {
   "cell_type": "markdown",
   "metadata": {},
   "source": [
    "## CREATE TABLE\n",
    "\n",
    "* SQLite <b>CREATE TABLE</b> statement is used to <b>create</b> a new table in any of the given database. Creating a basic table involves naming the table and defining its columns and each column's data type."
   ]
  },
  {
   "cell_type": "code",
   "execution_count": 16,
   "metadata": {
    "scrolled": false
   },
   "outputs": [
    {
     "name": "stdout",
     "output_type": "stream",
     "text": [
      "Table created successfully\n"
     ]
    }
   ],
   "source": [
    "import sqlite3\n",
    "\n",
    "conn = sqlite3.connect('sqliteLTECatM1')\n",
    "conn.execute('''CREATE TABLE HOME(\n",
    "    LOCAL INT PRIMARY KEY NOT NULL, \n",
    "    TEMP INT NOT NULL\n",
    "    );''')\n",
    "print(\"Table created successfully\");\n",
    "\n",
    "conn.close()"
   ]
  },
  {
   "cell_type": "markdown",
   "metadata": {},
   "source": [
    "## DROP TABLE\n",
    "\n",
    "* SQLite <b>DROP TABLE</b> statement is used to <b>remove</b> a table definition and all associated data, indexes, triggers, constraints, and permission specifications for that table."
   ]
  },
  {
   "cell_type": "code",
   "execution_count": 15,
   "metadata": {},
   "outputs": [
    {
     "name": "stdout",
     "output_type": "stream",
     "text": [
      "Deleted the table successfully\n"
     ]
    }
   ],
   "source": [
    "import sqlite3\n",
    "conn = sqlite3.connect('sqliteLTECatM1')\n",
    "cur = conn.cursor()\n",
    "sql = \"DROP TABLE HOME;\"\n",
    "cur.execute(sql)\n",
    "print(\"Deleted the table successfully\");\n",
    "conn.commit()\n",
    "conn.close()"
   ]
  },
  {
   "cell_type": "markdown",
   "metadata": {},
   "source": [
    "## INSERT QUERY FOR UNIT TESTING\n",
    "\n",
    "* SQLite <b>INSERT INTO</b> Statement is used to <b>add</b> new rows of data into a table in the database."
   ]
  },
  {
   "cell_type": "code",
   "execution_count": 25,
   "metadata": {
    "scrolled": false
   },
   "outputs": [
    {
     "name": "stdout",
     "output_type": "stream",
     "text": [
      "Opened database successfully\n",
      "Records created successfully\n"
     ]
    }
   ],
   "source": [
    "import sqlite3\n",
    "\n",
    "conn = sqlite3.connect('sqliteLTECatM1')\n",
    "print(\"Opened database successfully\");\n",
    "\n",
    "conn.execute(\"INSERT INTO HOME (LOCAL,TEMP) \\\n",
    "      VALUES (20171201221159, 24)\");\n",
    "\n",
    "conn.commit()\n",
    "print(\"Records created successfully\");\n",
    "conn.close()"
   ]
  },
  {
   "cell_type": "markdown",
   "metadata": {},
   "source": [
    "## SEARCH THE SPECIFIC TEMPERATURE DATA\n",
    "\n",
    "* SQLite <b>SELECT</b> statement is used to <b>fetch</b> the data from a SQLite database table which returns data in the form of a result table. These result tables are also called result sets."
   ]
  },
  {
   "cell_type": "code",
   "execution_count": 27,
   "metadata": {
    "scrolled": true
   },
   "outputs": [
    {
     "name": "stdout",
     "output_type": "stream",
     "text": [
      "Opened database successfully\n",
      "Local Time   =  20171201221159\n",
      "Temperature  =  24\n",
      "\n",
      "\n",
      "Operation done successfully\n"
     ]
    }
   ],
   "source": [
    "import sqlite3\n",
    "\n",
    "conn = sqlite3.connect('sqliteLTECatM1')\n",
    "print(\"Opened database successfully\");\n",
    "\n",
    "cursor = conn.execute(\"SELECT * from HOME WHERE TEMP = 24\")\n",
    "for row in cursor:\n",
    "    print(\"Local Time   = \", row[0])\n",
    "    print(\"Temperature  = \", row[1])\n",
    "    print(\"\\n\")\n",
    "   \n",
    "\n",
    "print(\"Operation done successfully\");\n",
    "conn.close()"
   ]
  },
  {
   "cell_type": "code",
   "execution_count": 29,
   "metadata": {
    "scrolled": true
   },
   "outputs": [
    {
     "name": "stdout",
     "output_type": "stream",
     "text": [
      "Opened database successfully\n",
      "\n",
      "   Local Time |T(°C)\n",
      "===========================\n",
      "20171201221159 24\n"
     ]
    }
   ],
   "source": [
    "#!/usr/bin/python\n",
    "\n",
    "import sqlite3\n",
    "\n",
    "conn = sqlite3.connect('sqliteLTECatM1');\n",
    "print(\"Opened database successfully\");\n",
    "print(\"\");\n",
    "print(\"   Local Time |T(°C)\");\n",
    "print(\"===========================\");\n",
    "cursor = conn.execute(\"SELECT * from HOME WHERE TEMP = 24\")\n",
    "for row in cursor:\n",
    "    print(row[0],row[1])\n",
    "    \n",
    "conn.close()"
   ]
  },
  {
   "cell_type": "markdown",
   "metadata": {},
   "source": [
    "#### Searching Temperature Data"
   ]
  },
  {
   "cell_type": "code",
   "execution_count": 30,
   "metadata": {},
   "outputs": [],
   "source": [
    "import sqlite3\n",
    "\n",
    "def search_temperature(temp):\n",
    "    conn = sqlite3.connect('sqliteLTECatM1')\n",
    "\n",
    "    str1 = \"SELECT * FROM HOME WHERE TEMP = \"\n",
    "    str2 = str(temp)\n",
    "    str3 = \";\"\n",
    "    sql = str1 + str2 + str3\n",
    "    cursor = conn.execute(sql)\n",
    "\n",
    "    print(\"Opened database successfully\")\n",
    "    print(\"\")\n",
    "    print(\"   Local Time |T(°C)\")\n",
    "    print(\"===========================\")\n",
    "    \n",
    "    for row in cursor:\n",
    "        print(row[0],row[1])"
   ]
  },
  {
   "cell_type": "code",
   "execution_count": 31,
   "metadata": {
    "scrolled": false
   },
   "outputs": [
    {
     "name": "stdout",
     "output_type": "stream",
     "text": [
      "Opened database successfully\n",
      "\n",
      "   Local Time |T(°C)\n",
      "===========================\n",
      "20171201221159 24\n"
     ]
    }
   ],
   "source": [
    "# Put any temperature.\n",
    "search_temperature(24)"
   ]
  },
  {
   "cell_type": "markdown",
   "metadata": {},
   "source": [
    "## Eclipse Paho™ MQTT Python Pub/Sub Client"
   ]
  },
  {
   "cell_type": "code",
   "execution_count": 32,
   "metadata": {
    "scrolled": true
   },
   "outputs": [
    {
     "name": "stdout",
     "output_type": "stream",
     "text": [
      "catm1topic\n",
      "b'{\"device\":\"catm1\",\"temperature\":\"28.211\"}'\n",
      "{'device': 'catm1', 'temperature': '28.211'}\n",
      "28.211\n",
      "catm1topic\n",
      "b'{\"device\":\"catm1\",\"temperature\":\"28.211\"}'\n",
      "{'device': 'catm1', 'temperature': '28.211'}\n",
      "28.211\n"
     ]
    }
   ],
   "source": [
    "import sys\n",
    "import json\n",
    "\n",
    "try:\n",
    "    import paho.mqtt.subscribe as subscribe\n",
    "except ImportError:\n",
    "    # This part is only required to run the example from within the examples\n",
    "    # directory when the module itself is not installed.\n",
    "    #\n",
    "    # If you have the module installed, just use \"import paho.mqtt.subscribe\"\n",
    "    import os\n",
    "    import inspect\n",
    "    cmd_subfolder = os.path.realpath(os.path.abspath(os.path.join(os.path.split(inspect.getfile( inspect.currentframe() ))[0],\"../src\")))\n",
    "    if cmd_subfolder not in sys.path:\n",
    "        sys.path.insert(0, cmd_subfolder)\n",
    "    import paho.mqtt.subscribe as subscribe\n",
    "    import paho.mqtt.client\n",
    "\n",
    "topics = ['catm1topic']\n",
    "\n",
    "m = subscribe.simple(topics, hostname=\"broker.hivemq.com\", retained=False, msg_count=2)\n",
    "for a in m:\n",
    "    print(a.topic)\n",
    "    print(a.payload)\n",
    "    da = json.loads(a.payload)\n",
    "    print(da)\n",
    "    json_data = da[\"temperature\"]\n",
    "    print(json_data)"
   ]
  },
  {
   "cell_type": "code",
   "execution_count": null,
   "metadata": {
    "scrolled": true
   },
   "outputs": [
    {
     "name": "stdout",
     "output_type": "stream",
     "text": [
      "catm1topic : b'{\"device\":\"catm1\",\"temperature\":\"28.211\"}'\n",
      "catm1topic : b'{\"device\":\"catm1\",\"temperature\":\"28.211\"}'\n",
      "catm1topic : b'{\"device\":\"catm1\",\"temperature\":\"28.211\"}'\n",
      "catm1topic : b'{\"device\":\"catm1\",\"temperature\":\"28.211\"}'\n",
      "catm1topic : b'{\"device\":\"catm1\",\"temperature\":\"28.211\"}'\n",
      "catm1topic : b'{\"device\":\"catm1\",\"temperature\":\"28.211\"}'\n",
      "catm1topic : b'{\"device\":\"catm1\",\"temperature\":\"28.211\"}'\n",
      "catm1topic : b'{\"device\":\"catm1\",\"temperature\":\"28.211\"}'\n",
      "catm1topic : b'{\"device\":\"catm1\",\"temperature\":\"28.211\"}'\n",
      "catm1topic : b'{\"device\":\"catm1\",\"temperature\":\"28.211\"}'\n",
      "catm1topic : b'{\"device\":\"catm1\",\"temperature\":\"28.211\"}'\n",
      "catm1topic : b'{\"device\":\"catm1\",\"temperature\":\"28.211\"}'\n",
      "catm1topic : b'{\"device\":\"catm1\",\"temperature\":\"28.211\"}'\n",
      "catm1topic : b'{\"device\":\"catm1\",\"temperature\":\"28.211\"}'\n"
     ]
    }
   ],
   "source": [
    "import sys\n",
    "try:\n",
    "    import paho.mqtt.subscribe as subscribe\n",
    "except ImportError:\n",
    "    # This part is only required to run the example from within the examples\n",
    "    # directory when the module itself is not installed.\n",
    "    #\n",
    "    # If you have the module installed, just use \"import paho.mqtt.subscribe\"\n",
    "    import os\n",
    "    import inspect\n",
    "    cmd_subfolder = os.path.realpath(os.path.abspath(os.path.join(os.path.split(inspect.getfile( inspect.currentframe() ))[0],\"../src\")))\n",
    "    if cmd_subfolder not in sys.path:\n",
    "        sys.path.insert(0, cmd_subfolder)\n",
    "    import paho.mqtt.subscribe as subscribe\n",
    "    import paho.mqtt.client\n",
    "\n",
    "def print_msg(client, userdata, message):\n",
    "    print(\"%s : %s\" % (message.topic, message.payload))\n",
    "    buf = message.payload\n",
    "    \n",
    "subscribe.callback(print_msg, \"catm1topic\", hostname=\"broker.hivemq.com\")"
   ]
  },
  {
   "cell_type": "markdown",
   "metadata": {},
   "source": [
    "##  INSERT QUERY (IN REAL TIME)\n",
    "\n",
    "* SQLite <b>INSERT INTO</b> Statement is used to <b>add</b> new rows of data into a table in the database."
   ]
  },
  {
   "cell_type": "code",
   "execution_count": null,
   "metadata": {
    "scrolled": false
   },
   "outputs": [
    {
     "name": "stdout",
     "output_type": "stream",
     "text": [
      "Opened database successfully\n",
      "\n",
      "INSERT OPERATION\n",
      "    Date      | Temperature[°C]:\n",
      "==================================\n",
      "190604033350  |  20.211\n",
      "190604033400  |  20.211\n",
      "190604033410  |  20.211\n",
      "190604033428  |  20.713\n",
      "190604033437  |  20.713\n",
      "190604033448  |  20.713\n",
      "190604033500  |  21.013\n",
      "190604033510  |  21.013\n",
      "190604033521  |  21.013\n",
      "190604033530  |  21.013\n",
      "190604033543  |  22.313\n",
      "190604033553  |  22.313\n",
      "190604033603  |  22.313\n",
      "190604033613  |  22.313\n",
      "190604033629  |  22.817\n",
      "190604033639  |  22.817\n",
      "190604033649  |  22.817\n",
      "190604033700  |  23.817\n",
      "190604033710  |  23.817\n",
      "190604033720  |  23.817\n",
      "190604033735  |  24.114\n",
      "190604033745  |  24.114\n",
      "190604033755  |  24.114\n",
      "190604033805  |  24.114\n",
      "190604033815  |  24.114\n",
      "190604033833  |  26.417\n",
      "190604033843  |  26.417\n",
      "190604033853  |  26.417\n",
      "190604033903  |  26.417\n",
      "190604033913  |  26.417\n",
      "190604033923  |  26.417\n",
      "190604033942  |  28.127\n",
      "190604033952  |  28.127\n",
      "190604034002  |  28.127\n",
      "190604034012  |  28.127\n",
      "190604034029  |  28.327\n",
      "190604034039  |  28.327\n",
      "190604034049  |  28.327\n",
      "190604034100  |  28.327\n",
      "190604034109  |  28.327\n",
      "190604034119  |  28.327\n",
      "190604034129  |  28.327\n",
      "190604034139  |  28.327\n",
      "190604034149  |  28.327\n",
      "190604034206  |  29.727\n",
      "190604034216  |  29.727\n",
      "190604034226  |  29.727\n",
      "190604034245  |  31.729\n",
      "190604034255  |  31.729\n",
      "190604034305  |  31.729\n"
     ]
    }
   ],
   "source": [
    "import sys \n",
    "import sqlite3\n",
    "import locale\n",
    "import json\n",
    "import datetime\n",
    "\n",
    "conn = sqlite3.connect('sqliteLTECatM1')\n",
    "print(\"Opened database successfully\")\n",
    "print(\"\")\n",
    "print(\"INSERT OPERATION\")\n",
    "print(\"    Date      | Temperature[°C]:\")\n",
    "print(\"==================================\")\n",
    "\n",
    "try:\n",
    "    import paho.mqtt.subscribe as subscribe\n",
    "except ImportError:\n",
    "    # This part is only required to run the example from within the examples\n",
    "    # directory when the module itself is not installed.\n",
    "    #\n",
    "    # If you have the module installed, just use \"import paho.mqtt.subscribe\"\n",
    "    import os\n",
    "    import inspect\n",
    "    cmd_subfolder = os.path.realpath(os.path.abspath(os.path.join(os.path.split(inspect.getfile( inspect.currentframe() ))[0],\"../src\")))\n",
    "    if cmd_subfolder not in sys.path:\n",
    "        sys.path.insert(0, cmd_subfolder)\n",
    "    import paho.mqtt.subscribe as subscribe\n",
    "    import paho.mqtt.client\n",
    "\n",
    "def print_msg(client, userdata, message):\n",
    "    #print(\"%s : %s\" % (message.topic, message.payload))\n",
    "    data = message.payload\n",
    "    # {\"device\":\"catm1\",\"temperature\":\"29.011\"}\n",
    "    local = datetime.datetime.now().strftime(\"%y%m%d%H%M%S\")\n",
    "       \n",
    "    jsonData = json.loads(data)\n",
    "    temp = str(jsonData['temperature'])         \n",
    "    \n",
    "    print(local,\" | \",temp)\n",
    "    \n",
    "    str1 = \"INSERT INTO HOME (LOCAL,TEMP) \\\n",
    "      VALUES (\"\n",
    "    str2 = local \n",
    "    str3 = \", \"\n",
    "    str4 = temp\n",
    "    str5 = \" )\"\n",
    "    insert = str1 + str2 + str3 + str4 + str5\n",
    "    conn.execute(insert)\n",
    "    conn.commit()\n",
    "\n",
    "subscribe.callback(print_msg, \"catm1topic\", hostname=\"broker.hivemq.com\")"
   ]
  },
  {
   "cell_type": "markdown",
   "metadata": {},
   "source": [
    "## SELECT QUERY\n",
    "\n",
    "* SQLite <b>SELECT</b> statement is used to <b>fetch</b> the data from a SQLite database table which returns data in the form of a result table. These result tables are also called result sets."
   ]
  },
  {
   "cell_type": "code",
   "execution_count": 1,
   "metadata": {
    "scrolled": false
   },
   "outputs": [
    {
     "name": "stdout",
     "output_type": "stream",
     "text": [
      "Opened database successfully\n",
      "\n",
      "    Date      | Temperature[°C]:\n",
      "==================================\n",
      "190604033350  |  20.211\n",
      "190604033400  |  20.211\n",
      "190604033410  |  20.211\n",
      "190604033428  |  20.713\n",
      "190604033437  |  20.713\n",
      "190604033448  |  20.713\n",
      "190604033500  |  21.013\n",
      "190604033510  |  21.013\n",
      "190604033521  |  21.013\n",
      "190604033530  |  21.013\n",
      "190604033543  |  22.313\n",
      "190604033553  |  22.313\n",
      "190604033603  |  22.313\n",
      "190604033613  |  22.313\n",
      "190604033629  |  22.817\n",
      "190604033639  |  22.817\n",
      "190604033649  |  22.817\n",
      "190604033700  |  23.817\n",
      "190604033710  |  23.817\n",
      "190604033720  |  23.817\n",
      "190604033735  |  24.114\n",
      "190604033745  |  24.114\n",
      "190604033755  |  24.114\n",
      "190604033805  |  24.114\n",
      "190604033815  |  24.114\n",
      "190604033833  |  26.417\n",
      "190604033843  |  26.417\n",
      "190604033853  |  26.417\n",
      "190604033903  |  26.417\n",
      "190604033913  |  26.417\n",
      "190604033923  |  26.417\n",
      "190604033942  |  28.127\n",
      "190604033952  |  28.127\n",
      "190604034002  |  28.127\n",
      "190604034012  |  28.127\n",
      "190604034029  |  28.327\n",
      "190604034039  |  28.327\n",
      "190604034049  |  28.327\n",
      "190604034100  |  28.327\n",
      "190604034109  |  28.327\n",
      "190604034119  |  28.327\n",
      "190604034129  |  28.327\n",
      "190604034139  |  28.327\n",
      "190604034149  |  28.327\n",
      "190604034206  |  29.727\n",
      "190604034216  |  29.727\n",
      "190604034226  |  29.727\n",
      "190604034245  |  31.729\n",
      "190604034255  |  31.729\n",
      "190604034305  |  31.729\n"
     ]
    }
   ],
   "source": [
    "#!/usr/bin/python\n",
    "\n",
    "import sqlite3\n",
    "\n",
    "conn = sqlite3.connect('sqliteLTECatM1')\n",
    "print(\"Opened database successfully\")\n",
    "print(\"\")\n",
    "print(\"    Date      | Temperature[°C]:\")\n",
    "print(\"==================================\")\n",
    "cursor = conn.execute(\"SELECT * from HOME WHERE TEMP\")\n",
    "for row in cursor:\n",
    "    print(row[0],\" | \",row[1])\n",
    "    \n",
    "conn.close()"
   ]
  },
  {
   "cell_type": "markdown",
   "metadata": {},
   "source": [
    "## SELECT QUERY & PUSH DATA INTO BOX"
   ]
  },
  {
   "cell_type": "code",
   "execution_count": 24,
   "metadata": {
    "scrolled": false
   },
   "outputs": [
    {
     "name": "stdout",
     "output_type": "stream",
     "text": [
      "Opened database successfully\n",
      "\n",
      "x(time) = \n",
      "[1, 2, 3, 4, 5, 6, 7, 8, 9, 10, 11, 12, 13, 14, 15, 16, 17, 18, 19, 20, 21, 22, 23, 24, 25, 26, 27, 28, 29, 30, 31, 32, 33, 34, 35, 36, 37, 38, 39, 40, 41, 42, 43, 44, 45, 46, 47, 48, 49, 50]\n",
      "\n",
      "y1(Temperature) = \n",
      "[20.211, 20.211, 20.211, 20.713, 20.713, 20.713, 21.013, 21.013, 21.013, 21.013, 22.313, 22.313, 22.313, 22.313, 22.817, 22.817, 22.817, 23.817, 23.817, 23.817, 24.114, 24.114, 24.114, 24.114, 24.114, 26.417, 26.417, 26.417, 26.417, 26.417, 26.417, 28.127, 28.127, 28.127, 28.127, 28.327, 28.327, 28.327, 28.327, 28.327, 28.327, 28.327, 28.327, 28.327, 29.727, 29.727, 29.727, 31.729, 31.729, 31.729]\n",
      "\n",
      "The temperature data is ascending.\n"
     ]
    }
   ],
   "source": [
    "import sqlite3\n",
    "\n",
    "class Stack:\n",
    "    \n",
    "    def __init__(self):\n",
    "        self.items = []\n",
    "\n",
    "    def isEmpty(self):\n",
    "        return self.items == []\n",
    "\n",
    "    def push(self, item):\n",
    "        self.items.append(item)\n",
    "\n",
    "    def pop(self, item):\n",
    "        return self.items.pop(item)\n",
    "\n",
    "    def peek(self):\n",
    "        return self.items[len(self.items)-1]\n",
    "\n",
    "    def size(self):\n",
    "        return len(self.items)\n",
    "\n",
    "\n",
    "tempBox = Stack()\n",
    "temPopBox = Stack() \n",
    "timeBox = Stack()\n",
    "\n",
    "conn = sqlite3.connect('sqliteLTECatM1')\n",
    "print(\"Opened database successfully\")\n",
    "print(\"\")\n",
    "\n",
    "cursor = conn.execute(\"SELECT * from HOME WHERE TEMP\")\n",
    "for row in cursor:\n",
    "    tempBox.push(row[1])\n",
    "    temPopBox.push(row[1])\n",
    "    \n",
    "    #print(row[0],row[1],row[2])\n",
    "\n",
    "# Making time = 1,2,3,4 .... n    \n",
    "max = len(tempBox.items)\n",
    "\n",
    "for count in range(1,max+1):\n",
    "    timeBox.push(count)\n",
    "print(\"x(time) = \")    \n",
    "print(timeBox.items)\n",
    "print(\"\")\n",
    "print(\"y1(Temperature) = \") \n",
    "print(tempBox.items)\n",
    "print(\"\")\n",
    "\n",
    "xTime = timeBox.items\n",
    "y1Data = tempBox.items\n",
    "\n",
    "# Comparing between max and min in tData\n",
    "highTemBit = y1Data.pop(max-1)\n",
    "lowTemBit = y1Data.pop(0)\n",
    "\n",
    "\n",
    "if highTemBit > lowTemBit:\n",
    "    print(\"The temperature data is ascending.\")\n",
    "\n",
    "elif highTemBit < lowTemBit:\n",
    "    print(\"The temperature data is descending.\")\n",
    "    \n",
    "elif highTemBit == lowTemBit:\n",
    "    print(\"The temperature data is stable.\")\n",
    "    \n",
    "conn.close()"
   ]
  },
  {
   "cell_type": "code",
   "execution_count": 25,
   "metadata": {
    "scrolled": true
   },
   "outputs": [
    {
     "name": "stdout",
     "output_type": "stream",
     "text": [
      "Max & Min Temperature:\n",
      "31.729\n",
      "20.211\n"
     ]
    }
   ],
   "source": [
    "print(\"Max & Min Temperature:\")\n",
    "print(highTemBit)\n",
    "print(lowTemBit)"
   ]
  },
  {
   "cell_type": "markdown",
   "metadata": {},
   "source": [
    "## DELETE QUERY\n",
    "\n",
    "* SQLite <b>DELETE QUERY</b> is used to <b>delete</b> the existing records from a table. You can use WHERE clause with <b>DELETE QUERY</b> to <b>delete</b> the selected rows, otherwise all the records would be deleted."
   ]
  },
  {
   "cell_type": "code",
   "execution_count": 24,
   "metadata": {
    "scrolled": false
   },
   "outputs": [
    {
     "name": "stdout",
     "output_type": "stream",
     "text": [
      "Opened database successfully\n",
      "Total number of rows deleted : 1\n",
      "\n",
      "    Date      | Temperature[°C]:\n",
      "==================================\n",
      "190604021915 27.231\n",
      "190604021954 26.231\n",
      "190604022027 24.211\n",
      "190604022057 24.211\n",
      "190604022108 23.511\n",
      "DELETE Operation done successfully\n"
     ]
    }
   ],
   "source": [
    "import sqlite3\n",
    "\n",
    "conn = sqlite3.connect('sqliteLTECatM1')\n",
    "print(\"Opened database successfully\");\n",
    "\n",
    "conn.execute(\"DELETE from HOME where LOCAL = 190604021946;\")\n",
    "#conn.execute(\"DELETE FROM HOME WHERE TIME BETWEEN 1514283551781 AND 1514285943367;\")\n",
    "conn.commit()\n",
    "print(\"Total number of rows deleted :\", conn.total_changes)\n",
    "\n",
    "print(\"\")\n",
    "print(\"    Date      | Temperature[°C]:\")\n",
    "print(\"==================================\")\n",
    "cursor = conn.execute(\"SELECT * from HOME\")\n",
    "for row in cursor:\n",
    "    print(row[0],row[1])\n",
    "\n",
    "print(\"DELETE Operation done successfully\")\n",
    "conn.close()"
   ]
  },
  {
   "cell_type": "markdown",
   "metadata": {},
   "source": [
    "## CSV file"
   ]
  },
  {
   "cell_type": "code",
   "execution_count": 27,
   "metadata": {},
   "outputs": [],
   "source": [
    "import sqlite3\n",
    "import csv\n",
    "\n",
    "sqlconnector = sqlite3.connect('sqliteLTECatM1')\n",
    "sql3_cursor = sqlconnector.cursor()\n",
    "sql3_cursor.execute('SELECT * FROM HOME')\n",
    "with open('temp_catm1.csv','w') as out_csv_file:\n",
    "  csv_out = csv.writer(out_csv_file)\n",
    "  # write header                        \n",
    "  csv_out.writerow([d[0] for d in sql3_cursor.description])\n",
    "  # write data                          \n",
    "  for result in sql3_cursor:\n",
    "    csv_out.writerow(result)\n",
    "sqlconnector.close()"
   ]
  },
  {
   "cell_type": "code",
   "execution_count": 28,
   "metadata": {
    "scrolled": false
   },
   "outputs": [
    {
     "name": "stdout",
     "output_type": "stream",
     "text": [
      "mydb_hum.csv   mydb_temp.csv  pm10.csv       pm25.csv       temp_catm1.csv\r\n"
     ]
    }
   ],
   "source": [
    "!ls *.csv"
   ]
  },
  {
   "cell_type": "code",
   "execution_count": 29,
   "metadata": {
    "scrolled": true
   },
   "outputs": [
    {
     "name": "stdout",
     "output_type": "stream",
     "text": [
      "LOCAL,TEMP\r",
      "\r\n",
      "190604033350,20.211\r",
      "\r\n",
      "190604033400,20.211\r",
      "\r\n",
      "190604033410,20.211\r",
      "\r\n",
      "190604033428,20.713\r",
      "\r\n",
      "190604033437,20.713\r",
      "\r\n",
      "190604033448,20.713\r",
      "\r\n",
      "190604033500,21.013\r",
      "\r\n",
      "190604033510,21.013\r",
      "\r\n",
      "190604033521,21.013\r",
      "\r\n",
      "190604033530,21.013\r",
      "\r\n",
      "190604033543,22.313\r",
      "\r\n",
      "190604033553,22.313\r",
      "\r\n",
      "190604033603,22.313\r",
      "\r\n",
      "190604033613,22.313\r",
      "\r\n",
      "190604033629,22.817\r",
      "\r\n",
      "190604033639,22.817\r",
      "\r\n",
      "190604033649,22.817\r",
      "\r\n",
      "190604033700,23.817\r",
      "\r\n",
      "190604033710,23.817\r",
      "\r\n",
      "190604033720,23.817\r",
      "\r\n",
      "190604033735,24.114\r",
      "\r\n",
      "190604033745,24.114\r",
      "\r\n",
      "190604033755,24.114\r",
      "\r\n",
      "190604033805,24.114\r",
      "\r\n",
      "190604033815,24.114\r",
      "\r\n",
      "190604033833,26.417\r",
      "\r\n",
      "190604033843,26.417\r",
      "\r\n",
      "190604033853,26.417\r",
      "\r\n",
      "190604033903,26.417\r",
      "\r\n",
      "190604033913,26.417\r",
      "\r\n",
      "190604033923,26.417\r",
      "\r\n",
      "190604033942,28.127\r",
      "\r\n",
      "190604033952,28.127\r",
      "\r\n",
      "190604034002,28.127\r",
      "\r\n",
      "190604034012,28.127\r",
      "\r\n",
      "190604034029,28.327\r",
      "\r\n",
      "190604034039,28.327\r",
      "\r\n",
      "190604034049,28.327\r",
      "\r\n",
      "190604034100,28.327\r",
      "\r\n",
      "190604034109,28.327\r",
      "\r\n",
      "190604034119,28.327\r",
      "\r\n",
      "190604034129,28.327\r",
      "\r\n",
      "190604034139,28.327\r",
      "\r\n",
      "190604034149,28.327\r",
      "\r\n",
      "190604034206,29.727\r",
      "\r\n",
      "190604034216,29.727\r",
      "\r",
      "\r\n",
      "190604034226,29.727\r",
      "\r\n",
      "190604034245,31.729\r",
      "\r\n",
      "190604034255,31.729\r",
      "\r\n",
      "190604034305,31.729\r",
      "\r\n"
     ]
    }
   ],
   "source": [
    "!cat temp_catm1.csv"
   ]
  },
  {
   "cell_type": "code",
   "execution_count": 30,
   "metadata": {
    "scrolled": true
   },
   "outputs": [
    {
     "name": "stderr",
     "output_type": "stream",
     "text": [
      "/Library/Frameworks/Python.framework/Versions/3.6/lib/python3.6/site-packages/statsmodels/compat/pandas.py:56: FutureWarning: The pandas.core.datetools module is deprecated and will be removed in a future version. Please use the pandas.tseries module instead.\n",
      "  from pandas.core import datetools\n"
     ]
    }
   ],
   "source": [
    "# create and evaluate an updated autoregressive model\n",
    "import pandas as pa\n",
    "import matplotlib as plot\n",
    "from pandas import read_csv\n",
    "from matplotlib import pyplot\n",
    "from statsmodels.tsa.ar_model import AR\n",
    "from sklearn.metrics import mean_squared_error\n",
    "from math import sqrt\n",
    "# load dataset\n",
    "series = read_csv('temp_catm1.csv', header=0, index_col=0, parse_dates=True, squeeze=True)\n",
    "#\n",
    "# Data sets"
   ]
  },
  {
   "cell_type": "code",
   "execution_count": 31,
   "metadata": {},
   "outputs": [
    {
     "data": {
      "text/plain": [
       "count    50.000000\n",
       "mean     25.337380\n",
       "std       3.460518\n",
       "min      20.211000\n",
       "25%      22.313000\n",
       "50%      25.265500\n",
       "75%      28.327000\n",
       "max      31.729000\n",
       "Name: TEMP, dtype: float64"
      ]
     },
     "execution_count": 31,
     "metadata": {},
     "output_type": "execute_result"
    }
   ],
   "source": [
    "#view basic stats information on data\n",
    "series.describe()"
   ]
  },
  {
   "cell_type": "code",
   "execution_count": 32,
   "metadata": {
    "scrolled": true
   },
   "outputs": [
    {
     "data": {
      "text/plain": [
       "LOCAL\n",
       "190604033350    20.211\n",
       "190604033400    20.211\n",
       "190604033410    20.211\n",
       "190604033428    20.713\n",
       "190604033437    20.713\n",
       "Name: TEMP, dtype: float64"
      ]
     },
     "execution_count": 32,
     "metadata": {},
     "output_type": "execute_result"
    }
   ],
   "source": [
    "#get data\n",
    "def GetData(fileName):\n",
    "    return read_csv(fileName, header=0, parse_dates=[0], index_col=0)\n",
    "\n",
    "#read time series from the exchange.csv file \n",
    "\n",
    "#view top 10 records\n",
    "series.head(5)"
   ]
  },
  {
   "cell_type": "code",
   "execution_count": 33,
   "metadata": {},
   "outputs": [
    {
     "data": {
      "image/png": "[encoded data removed]",
      "text/plain": [
       "<matplotlib.figure.Figure at 0x1143700b8>"
      ]
     },
     "metadata": {
      "needs_background": "light"
     },
     "output_type": "display_data"
    }
   ],
   "source": [
    "# create a histogram plot\n",
    "from pandas import read_csv\n",
    "from matplotlib import pyplot\n",
    "series = read_csv('temp_catm1.csv', header=0, index_col=0, parse_dates=True, squeeze=True)\n",
    "series.hist()\n",
    "pyplot.show()"
   ]
  },
  {
   "cell_type": "code",
   "execution_count": 34,
   "metadata": {},
   "outputs": [
    {
     "data": {
      "image/png": "[encoded data removed]",
      "text/plain": [
       "<matplotlib.figure.Figure at 0x114346668>"
      ]
     },
     "metadata": {
      "needs_background": "light"
     },
     "output_type": "display_data"
    }
   ],
   "source": [
    "# create a density plot\n",
    "from pandas import read_csv\n",
    "from matplotlib import pyplot\n",
    "series = read_csv('temp_catm1.csv', header=0, index_col=0, parse_dates=True, squeeze=True)\n",
    "series.plot(kind='kde')\n",
    "pyplot.show()"
   ]
  },
  {
   "cell_type": "code",
   "execution_count": 35,
   "metadata": {
    "scrolled": true
   },
   "outputs": [
    {
     "data": {
      "image/png": "[encoded data removed]",
      "text/plain": [
       "<matplotlib.figure.Figure at 0x114346f28>"
      ]
     },
     "metadata": {
      "needs_background": "light"
     },
     "output_type": "display_data"
    }
   ],
   "source": [
    "from pandas import Series\n",
    "from matplotlib import pyplot\n",
    "from pandas.plotting import lag_plot\n",
    "lag_plot(series)\n",
    "pyplot.show()"
   ]
  },
  {
   "cell_type": "code",
   "execution_count": 36,
   "metadata": {},
   "outputs": [
    {
     "name": "stdout",
     "output_type": "stream",
     "text": [
      "         t     t+1\n",
      "0      NaN  20.211\n",
      "1   20.211  20.211\n",
      "2   20.211  20.211\n",
      "3   20.211  20.713\n",
      "4   20.713  20.713\n",
      "5   20.713  20.713\n",
      "6   20.713  21.013\n",
      "7   21.013  21.013\n",
      "8   21.013  21.013\n",
      "9   21.013  21.013\n",
      "10  21.013  22.313\n",
      "11  22.313  22.313\n",
      "12  22.313  22.313\n",
      "13  22.313  22.313\n",
      "14  22.313  22.817\n",
      "15  22.817  22.817\n",
      "16  22.817  22.817\n",
      "17  22.817  23.817\n",
      "18  23.817  23.817\n",
      "19  23.817  23.817\n",
      "20  23.817  24.114\n",
      "21  24.114  24.114\n",
      "22  24.114  24.114\n",
      "23  24.114  24.114\n",
      "24  24.114  24.114\n",
      "25  24.114  26.417\n",
      "26  26.417  26.417\n",
      "27  26.417  26.417\n",
      "28  26.417  26.417\n",
      "29  26.417  26.417\n",
      "30  26.417  26.417\n",
      "31  26.417  28.127\n",
      "32  28.127  28.127\n",
      "33  28.127  28.127\n",
      "34  28.127  28.127\n",
      "35  28.127  28.327\n",
      "36  28.327  28.327\n",
      "37  28.327  28.327\n",
      "38  28.327  28.327\n",
      "39  28.327  28.327\n",
      "40  28.327  28.327\n",
      "41  28.327  28.327\n",
      "42  28.327  28.327\n",
      "43  28.327  28.327\n",
      "44  28.327  29.727\n",
      "45  29.727  29.727\n",
      "46  29.727  29.727\n",
      "47  29.727  31.729\n",
      "48  31.729  31.729\n",
      "49  31.729  31.729\n"
     ]
    }
   ],
   "source": [
    "# correlation of lag=1\n",
    "from pandas import read_csv\n",
    "from pandas import DataFrame\n",
    "from pandas import concat\n",
    "series = read_csv('temp_catm1.csv', header=0, index_col=0, parse_dates=True, squeeze=True)\n",
    "values = DataFrame(series.values)\n",
    "dataframe = concat([values.shift(1), values], axis=1)\n",
    "dataframe.columns = ['t', 't+1']\n",
    "result = dataframe\n",
    "print(result)"
   ]
  },
  {
   "cell_type": "markdown",
   "metadata": {},
   "source": [
    "### Autocorrelation (자기상관도)"
   ]
  },
  {
   "cell_type": "code",
   "execution_count": 37,
   "metadata": {
    "scrolled": true
   },
   "outputs": [
    {
     "data": {
      "image/png": "[encoded data removed]",
      "text/plain": [
       "<matplotlib.figure.Figure at 0x1143bc550>"
      ]
     },
     "metadata": {
      "needs_background": "light"
     },
     "output_type": "display_data"
    }
   ],
   "source": [
    "# autocorrelation plot of time series\n",
    "from pandas import read_csv\n",
    "from matplotlib import pyplot\n",
    "from statsmodels.graphics.tsaplots import plot_acf\n",
    "series = read_csv('temp_catm1.csv', header=0, index_col=0, parse_dates=True, squeeze=True)\n",
    "plot_acf(series, lags=49)\n",
    "pyplot.show()"
   ]
  },
  {
   "cell_type": "code",
   "execution_count": 38,
   "metadata": {},
   "outputs": [
    {
     "data": {
      "image/png": "[encoded data removed]",
      "text/plain": [
       "<matplotlib.figure.Figure at 0x114433048>"
      ]
     },
     "metadata": {
      "needs_background": "light"
     },
     "output_type": "display_data"
    }
   ],
   "source": [
    "# autocorrelation plot of time series\n",
    "from pandas import read_csv\n",
    "from matplotlib import pyplot\n",
    "from pandas.plotting import autocorrelation_plot\n",
    "series = read_csv('temp_catm1.csv', header=0, index_col=0, parse_dates=True, squeeze=True)\n",
    "autocorrelation_plot(series)\n",
    "pyplot.show()"
   ]
  },
  {
   "cell_type": "code",
   "execution_count": 44,
   "metadata": {
    "scrolled": true
   },
   "outputs": [
    {
     "name": "stdout",
     "output_type": "stream",
     "text": [
      "{sensor:22.817000,prediction:20.706859}\n",
      "{sensor:22.817000,prediction:21.091779}\n",
      "{sensor:23.817000,prediction:23.882869}\n",
      "{sensor:23.817000,prediction:24.489653}\n",
      "{sensor:23.817000,prediction:23.516141}\n",
      "{sensor:24.114000,prediction:23.135892}\n",
      "{sensor:24.114000,prediction:24.834174}\n",
      "{sensor:24.114000,prediction:23.029210}\n",
      "{sensor:24.114000,prediction:23.192784}\n",
      "{sensor:24.114000,prediction:25.665882}\n",
      "{sensor:26.417000,prediction:25.136427}\n",
      "{sensor:26.417000,prediction:26.180431}\n",
      "{sensor:26.417000,prediction:26.707919}\n",
      "{sensor:26.417000,prediction:25.454758}\n",
      "{sensor:26.417000,prediction:26.347614}\n",
      "{sensor:26.417000,prediction:22.242110}\n",
      "{sensor:28.127000,prediction:22.991011}\n",
      "{sensor:28.127000,prediction:29.124848}\n",
      "{sensor:28.127000,prediction:28.996525}\n",
      "{sensor:28.127000,prediction:28.066040}\n",
      "{sensor:28.327000,prediction:28.728994}\n",
      "{sensor:28.327000,prediction:25.762894}\n",
      "{sensor:28.327000,prediction:26.303952}\n",
      "{sensor:28.327000,prediction:30.227223}\n",
      "{sensor:28.327000,prediction:30.304761}\n",
      "{sensor:28.327000,prediction:29.948226}\n",
      "{sensor:28.327000,prediction:30.013263}\n",
      "{sensor:28.327000,prediction:30.484854}\n",
      "{sensor:28.327000,prediction:30.484854}\n",
      "{sensor:29.727000,prediction:30.484854}\n",
      "{sensor:29.727000,prediction:31.060795}\n",
      "{sensor:29.727000,prediction:30.955736}\n",
      "{sensor:31.729000,prediction:30.193935}\n",
      "{sensor:31.729000,prediction:31.560301}\n",
      "{sensor:31.729000,prediction:28.914319}\n",
      "{TestRMSE:1.769}\n"
     ]
    },
    {
     "data": {
      "image/png": "[encoded data removed]",
      "text/plain": [
       "<matplotlib.figure.Figure at 0x115441dd8>"
      ]
     },
     "metadata": {
      "needs_background": "light"
     },
     "output_type": "display_data"
    }
   ],
   "source": [
    "# create and evaluate an updated autoregressive model\n",
    "from pandas import read_csv\n",
    "from matplotlib import pyplot\n",
    "from statsmodels.tsa.ar_model import AR\n",
    "from sklearn.metrics import mean_squared_error\n",
    "from math import sqrt\n",
    "\n",
    "# load dataset\n",
    "series = read_csv('temp_catm1.csv', header=0, index_col=0, parse_dates=True, squeeze=True)\n",
    "\n",
    "# split dataset\n",
    "X = series.values\n",
    "testLength = 35;\n",
    "train, test = X[1:len(X)-testLength], X[len(X)-testLength:]\n",
    "\n",
    "# train autoregression\n",
    "model = AR(train)\n",
    "model_fit = model.fit()\n",
    "window = model_fit.k_ar\n",
    "coef = model_fit.params\n",
    "\n",
    "# walk forward over time steps in test\n",
    "history = train[len(train)-window:]\n",
    "history = [history[i] for i in range(len(history))]\n",
    "predictions = list()\n",
    "for t in range(len(test)):\n",
    "    length = len(history)\n",
    "    lag = [history[i] for i in range(length-window,length)]\n",
    "    yhat = coef[0]\n",
    "    for d in range(window):\n",
    "        yhat += coef[d+1] * lag[window-d-1]\n",
    "    obs = test[t]\n",
    "    predictions.append(yhat)\n",
    "    history.append(obs)\n",
    "    print('{sensor:%f,prediction:%f}' % (obs, yhat))\n",
    "rmse = sqrt(mean_squared_error(test, predictions))\n",
    "\n",
    "print('{TestRMSE:%.3f}' % rmse)\n",
    "# plot\n",
    "pyplot.plot(test)\n",
    "pyplot.plot(predictions, color='red')\n",
    "pyplot.show()"
   ]
  },
  {
   "cell_type": "code",
   "execution_count": 43,
   "metadata": {},
   "outputs": [
    {
     "name": "stdout",
     "output_type": "stream",
     "text": [
      "Test RMSE: 0.599\n"
     ]
    },
    {
     "data": {
      "image/png": "[encoded data removed]",
      "text/plain": [
       "<matplotlib.figure.Figure at 0x115447a90>"
      ]
     },
     "metadata": {
      "needs_background": "light"
     },
     "output_type": "display_data"
    }
   ],
   "source": [
    "# evaluate a persistence model\n",
    "from pandas import read_csv\n",
    "from pandas import DataFrame\n",
    "from pandas import concat\n",
    "from matplotlib import pyplot\n",
    "from sklearn.metrics import mean_squared_error\n",
    "from math import sqrt\n",
    "\n",
    "# load dataset\n",
    "series = read_csv('temp_catm1.csv', header=0, index_col=0, parse_dates=True, squeeze=True)\n",
    "# create lagged dataset\n",
    "values = DataFrame(series.values)\n",
    "dataframe = concat([values.shift(1), values], axis=1)\n",
    "dataframe.columns = ['t', 't+1']\n",
    "# split into train and test sets\n",
    "X = dataframe.values\n",
    "testLength = 49;\n",
    "train, test = X[1:len(X)-testLength], X[len(X)-testLength:]\n",
    "train_X, train_y = train[:,0], train[:,1]\n",
    "test_X, test_y = test[:,0], test[:,1]\n",
    "# persistence model\n",
    "def model_persistence(x):\n",
    "    return x\n",
    "# walk-forward validation\n",
    "predictions = list()\n",
    "for x in test_X:\n",
    "    yhat = model_persistence(x)\n",
    "    predictions.append(yhat)\n",
    "rmse = sqrt(mean_squared_error(test_y, predictions))\n",
    "print('Test RMSE: %.3f' % rmse)\n",
    "# plot predictions vs expected\n",
    "pyplot.plot(test_y)\n",
    "pyplot.plot(predictions, color='red')\n",
    "pyplot.show()"
   ]
  },
  {
   "cell_type": "markdown",
   "metadata": {
    "collapsed": true
   },
   "source": [
    "## References"
   ]
  },
  {
   "cell_type": "code",
   "execution_count": null,
   "metadata": {},
   "outputs": [],
   "source": []
  }
 ],
 "metadata": {
  "kernelspec": {
   "display_name": "Python 2",
   "language": "python",
   "name": "python2"
  },
  "language_info": {
   "codemirror_mode": {
    "name": "ipython",
    "version": 3
   },
   "file_extension": ".py",
   "mimetype": "text/x-python",
   "name": "python",
   "nbconvert_exporter": "python",
   "pygments_lexer": "ipython3",
   "version": "3.6.4"
  }
 },
 "nbformat": 4,
 "nbformat_minor": 2
}
