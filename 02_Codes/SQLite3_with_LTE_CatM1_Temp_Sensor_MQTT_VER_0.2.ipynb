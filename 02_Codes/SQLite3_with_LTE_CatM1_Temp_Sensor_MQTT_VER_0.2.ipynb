{
 "cells": [
  {
   "cell_type": "markdown",
   "metadata": {},
   "source": [
    "# 주피터 노트북(파이썬)으로 온도 데이타를 SQL에 저장하고 시계열분석하기"
   ]
  },
  {
   "cell_type": "markdown",
   "metadata": {},
   "source": [
    "<img src=\"https://raw.githubusercontent.com/leehaesung/SQLite3_with_LTE_CatM1/master/01_Images/01_Setting.png\" height=\"400\" width=\"450\" >"
   ]
  },
  {
   "cell_type": "markdown",
   "metadata": {},
   "source": [
    "* How to install Paho-MQTT on Linux/Mac :\n",
    "```\n",
    "sudo pip install paho-mqtt\n",
    "```\n",
    "\n",
    "* How to install SQLite3 on Linux/Mac:\n",
    "```\n",
    "sudo apt-get update\n",
    "sudo apt-get install sqlite3 libsqlite3-dev\n",
    "```"
   ]
  },
  {
   "cell_type": "code",
   "execution_count": 68,
   "metadata": {
    "scrolled": true
   },
   "outputs": [
    {
     "name": "stdout",
     "output_type": "stream",
     "text": [
      "Requirement already satisfied: paho-mqtt in /Library/Frameworks/Python.framework/Versions/3.6/lib/python3.6/site-packages (1.4.0)\n",
      "\u001b[33mYou are using pip version 19.0.3, however version 19.1.1 is available.\n",
      "You should consider upgrading via the 'pip install --upgrade pip' command.\u001b[0m\n"
     ]
    }
   ],
   "source": [
    "!pip install paho-mqtt"
   ]
  },
  {
   "cell_type": "markdown",
   "metadata": {},
   "source": [
    "## Eclipse Paho™ MQTT Python Pub/Sub Client"
   ]
  },
  {
   "cell_type": "code",
   "execution_count": 18,
   "metadata": {
    "scrolled": true
   },
   "outputs": [
    {
     "name": "stdout",
     "output_type": "stream",
     "text": [
      "catm1topic\n",
      "b'{\"device\":\"catm1\",\"temperature\":\"20.211\"}'\n",
      "{'device': 'catm1', 'temperature': '20.211'}\n",
      "20.211\n",
      "catm1topic\n",
      "b'{\"device\":\"catm1\",\"temperature\":\"20.211\"}'\n",
      "{'device': 'catm1', 'temperature': '20.211'}\n",
      "20.211\n"
     ]
    }
   ],
   "source": [
    "import sys\n",
    "import json\n",
    "\n",
    "try:\n",
    "    import paho.mqtt.subscribe as subscribe\n",
    "except ImportError:\n",
    "    # This part is only required to run the example from within the examples\n",
    "    # directory when the module itself is not installed.\n",
    "    #\n",
    "    # If you have the module installed, just use \"import paho.mqtt.subscribe\"\n",
    "    import os\n",
    "    import inspect\n",
    "    cmd_subfolder = os.path.realpath(os.path.abspath(os.path.join(os.path.split(inspect.getfile( inspect.currentframe() ))[0],\"../src\")))\n",
    "    if cmd_subfolder not in sys.path:\n",
    "        sys.path.insert(0, cmd_subfolder)\n",
    "    import paho.mqtt.subscribe as subscribe\n",
    "    import paho.mqtt.client\n",
    "\n",
    "topics = ['catm1topic']\n",
    "\n",
    "m = subscribe.simple(topics, hostname=\"broker.hivemq.com\", retained=False, msg_count=2)\n",
    "for a in m:\n",
    "    print(a.topic)\n",
    "    print(a.payload)\n",
    "    da = json.loads(a.payload)\n",
    "    print(da)\n",
    "    json_data = da[\"temperature\"]\n",
    "    print(json_data)"
   ]
  },
  {
   "cell_type": "markdown",
   "metadata": {},
   "source": [
    "## DROP TABLE\n",
    "#### 생략하고 진행 혹은 필요시만\n",
    "\n",
    "* SQLite <b>DROP TABLE</b> statement is used to <b>remove</b> a table definition and all associated data, indexes, triggers, constraints, and permission specifications for that table."
   ]
  },
  {
   "cell_type": "code",
   "execution_count": 25,
   "metadata": {
    "scrolled": false
   },
   "outputs": [
    {
     "name": "stdout",
     "output_type": "stream",
     "text": [
      "Deleted the table successfully\n"
     ]
    }
   ],
   "source": [
    "import sqlite3\n",
    "conn = sqlite3.connect('sqliteLTECatM1')\n",
    "cur = conn.cursor()\n",
    "sql = \"DROP TABLE HOME;\"\n",
    "cur.execute(sql)\n",
    "print(\"Deleted the table successfully\");\n",
    "conn.commit()\n",
    "conn.close()"
   ]
  },
  {
   "cell_type": "markdown",
   "metadata": {},
   "source": [
    "## CREATE TABLE\n",
    "\n",
    "* SQLite <b>CREATE TABLE</b> statement is used to <b>create</b> a new table in any of the given database. Creating a basic table involves naming the table and defining its columns and each column's data type."
   ]
  },
  {
   "cell_type": "code",
   "execution_count": 5,
   "metadata": {
    "scrolled": false
   },
   "outputs": [
    {
     "name": "stdout",
     "output_type": "stream",
     "text": [
      "Table created successfully\n"
     ]
    }
   ],
   "source": [
    "import sqlite3\n",
    "\n",
    "conn = sqlite3.connect('sqliteLTECatM1')\n",
    "conn.execute('''CREATE TABLE HOME(\n",
    "    LOCAL INT PRIMARY KEY NOT NULL, \n",
    "    TEMP INT NOT NULL\n",
    "    );''')\n",
    "print(\"Table created successfully\");\n",
    "\n",
    "conn.close()"
   ]
  },
  {
   "cell_type": "markdown",
   "metadata": {},
   "source": [
    "## INSERT QUERY FOR UNIT TESTING\n",
    "\n",
    "* SQLite <b>INSERT INTO</b> Statement is used to <b>add</b> new rows of data into a table in the database."
   ]
  },
  {
   "cell_type": "code",
   "execution_count": 6,
   "metadata": {
    "scrolled": false
   },
   "outputs": [
    {
     "name": "stdout",
     "output_type": "stream",
     "text": [
      "Opened database successfully\n",
      "Records created successfully\n"
     ]
    }
   ],
   "source": [
    "import sqlite3\n",
    "\n",
    "conn = sqlite3.connect('sqliteLTECatM1')\n",
    "print(\"Opened database successfully\");\n",
    "\n",
    "conn.execute(\"INSERT INTO HOME (LOCAL,TEMP) \\\n",
    "      VALUES (20190604033350, 24)\");\n",
    "\n",
    "conn.commit()\n",
    "print(\"Records created successfully\");\n",
    "conn.close()"
   ]
  },
  {
   "cell_type": "markdown",
   "metadata": {},
   "source": [
    "## SEARCH THE SPECIFIC TEMPERATURE DATA\n",
    "\n",
    "* SQLite <b>SELECT</b> statement is used to <b>fetch</b> the data from a SQLite database table which returns data in the form of a result table. These result tables are also called result sets."
   ]
  },
  {
   "cell_type": "code",
   "execution_count": 7,
   "metadata": {
    "scrolled": false
   },
   "outputs": [
    {
     "name": "stdout",
     "output_type": "stream",
     "text": [
      "Opened database successfully\n",
      "Local Time   =  20190604033350\n",
      "Temperature  =  24\n",
      "\n",
      "\n",
      "Operation done successfully\n"
     ]
    }
   ],
   "source": [
    "import sqlite3\n",
    "\n",
    "conn = sqlite3.connect('sqliteLTECatM1')\n",
    "print(\"Opened database successfully\");\n",
    "\n",
    "cursor = conn.execute(\"SELECT * from HOME WHERE TEMP = 24\")\n",
    "for row in cursor:\n",
    "    print(\"Local Time   = \", row[0])\n",
    "    print(\"Temperature  = \", row[1])\n",
    "    print(\"\\n\")\n",
    "   \n",
    "\n",
    "print(\"Operation done successfully\");\n",
    "conn.close()"
   ]
  },
  {
   "cell_type": "code",
   "execution_count": 10,
   "metadata": {
    "scrolled": false
   },
   "outputs": [
    {
     "name": "stdout",
     "output_type": "stream",
     "text": [
      "Opened database successfully\n",
      "\n",
      "     Date       | Temperature[°C]:\n",
      "==================================\n",
      "20190604033350  |  24\n"
     ]
    }
   ],
   "source": [
    "#!/usr/bin/python\n",
    "\n",
    "import sqlite3\n",
    "\n",
    "conn = sqlite3.connect('sqliteLTECatM1');\n",
    "print(\"Opened database successfully\");\n",
    "print(\"\");\n",
    "print(\"     Date       | Temperature[°C]:\")\n",
    "print(\"==================================\")\n",
    "cursor = conn.execute(\"SELECT * from HOME WHERE TEMP = 24\")\n",
    "for row in cursor:\n",
    "    print(row[0],\" | \",row[1])\n",
    "    \n",
    "conn.close()"
   ]
  },
  {
   "cell_type": "markdown",
   "metadata": {},
   "source": [
    "### Searching Temperature Data"
   ]
  },
  {
   "cell_type": "code",
   "execution_count": 13,
   "metadata": {},
   "outputs": [],
   "source": [
    "import sqlite3\n",
    "\n",
    "def search_temperature(temp):\n",
    "    conn = sqlite3.connect('sqliteLTECatM1')\n",
    "\n",
    "    str1 = \"SELECT * FROM HOME WHERE TEMP = \"\n",
    "    str2 = str(temp)\n",
    "    str3 = \";\"\n",
    "    sql = str1 + str2 + str3\n",
    "    cursor = conn.execute(sql)\n",
    "\n",
    "    print(\"Opened database successfully\")\n",
    "    print(\"\")\n",
    "    print(\"     Date       | Temperature[°C]:\")\n",
    "    print(\"==================================\")\n",
    "    \n",
    "    for row in cursor:\n",
    "        print(row[0],\" | \",row[1])"
   ]
  },
  {
   "cell_type": "code",
   "execution_count": 14,
   "metadata": {
    "scrolled": true
   },
   "outputs": [
    {
     "name": "stdout",
     "output_type": "stream",
     "text": [
      "Opened database successfully\n",
      "\n",
      "     Date       | Temperature[°C]:\n",
      "==================================\n",
      "20190604033350  |  24\n"
     ]
    }
   ],
   "source": [
    "# Put any temperature.\n",
    "search_temperature(24)"
   ]
  },
  {
   "cell_type": "markdown",
   "metadata": {},
   "source": [
    "## DELETE QUERY\n",
    "\n",
    "* SQLite <b>DELETE QUERY</b> is used to <b>delete</b> the existing records from a table. You can use WHERE clause with <b>DELETE QUERY</b> to <b>delete</b> the selected rows, otherwise all the records would be deleted."
   ]
  },
  {
   "cell_type": "code",
   "execution_count": 15,
   "metadata": {},
   "outputs": [
    {
     "name": "stdout",
     "output_type": "stream",
     "text": [
      "Opened database successfully\n",
      "Total number of rows deleted : 1\n",
      "\n",
      "    Date      | Temperature[°C]:\n",
      "==================================\n",
      "DELETE Operation done successfully\n"
     ]
    }
   ],
   "source": [
    "import sqlite3\n",
    "\n",
    "conn = sqlite3.connect('sqliteLTECatM1')\n",
    "print(\"Opened database successfully\");\n",
    "\n",
    "conn.execute(\"DELETE from HOME where LOCAL = 20190604033350;\")\n",
    "#conn.execute(\"DELETE FROM HOME WHERE TIME BETWEEN 1514283551781 AND 1514285943367;\")\n",
    "conn.commit()\n",
    "print(\"Total number of rows deleted :\", conn.total_changes)\n",
    "\n",
    "print(\"\")\n",
    "print(\"    Date      | Temperature[°C]:\")\n",
    "print(\"==================================\")\n",
    "cursor = conn.execute(\"SELECT * from HOME\")\n",
    "for row in cursor:\n",
    "    print(row[0],row[1])\n",
    "\n",
    "print(\"DELETE Operation done successfully\")\n",
    "conn.close()"
   ]
  },
  {
   "cell_type": "markdown",
   "metadata": {},
   "source": [
    "##  INSERT QUERY (IN REAL TIME)\n",
    "#### 종료하기위해서는 저장한후에 주피터를 실행했던 터미널 커맨드창에서 Ctrl + C 누릅니다.  다시 주피터를 열어주세요.\n",
    "\n",
    "* SQLite <b>INSERT INTO</b> Statement is used to <b>add</b> new rows of data into a table in the database."
   ]
  },
  {
   "cell_type": "code",
   "execution_count": null,
   "metadata": {
    "scrolled": false
   },
   "outputs": [
    {
     "name": "stdout",
     "output_type": "stream",
     "text": [
      "Table created successfully\n",
      "Database opend successfully\n",
      "\n",
      "INSERT OPERATION\n",
      "     Date       | Temperature[°C]:\n",
      "==================================\n",
      "20190604115413  |  30.911\n"
     ]
    }
   ],
   "source": [
    "import sys \n",
    "import sqlite3\n",
    "import locale\n",
    "import json\n",
    "import datetime\n",
    "\n",
    "conn = sqlite3.connect('sqliteLTECatM1')\n",
    "conn.execute('''CREATE TABLE HOME(\n",
    "    LOCAL INT PRIMARY KEY NOT NULL, \n",
    "    TEMP INT NOT NULL\n",
    "    );''')\n",
    "print(\"Table created successfully\");\n",
    "conn.close()\n",
    "\n",
    "conn = sqlite3.connect('sqliteLTECatM1')\n",
    "print(\"Database opend successfully\")\n",
    "print(\"\")\n",
    "print(\"INSERT OPERATION\")\n",
    "print(\"     Date       | Temperature[°C]:\")\n",
    "print(\"==================================\")\n",
    "\n",
    "try:\n",
    "    import paho.mqtt.subscribe as subscribe\n",
    "except ImportError:\n",
    "    # This part is only required to run the example from within the examples\n",
    "    # directory when the module itself is not installed.\n",
    "    #\n",
    "    # If you have the module installed, just use \"import paho.mqtt.subscribe\"\n",
    "    import os\n",
    "    import inspect\n",
    "    cmd_subfolder = os.path.realpath(os.path.abspath(os.path.join(os.path.split(inspect.getfile( inspect.currentframe() ))[0],\"../src\")))\n",
    "    if cmd_subfolder not in sys.path:\n",
    "        sys.path.insert(0, cmd_subfolder)\n",
    "    import paho.mqtt.subscribe as subscribe\n",
    "    import paho.mqtt.client\n",
    "\n",
    "def print_msg(client, userdata, message):\n",
    "    #print(\"%s : %s\" % (message.topic, message.payload))\n",
    "    data = message.payload\n",
    "    # {\"device\":\"catm1\",\"temperature\":\"29.011\"}\n",
    "    local = datetime.datetime.now().strftime(\"%Y%m%d%H%M%S\")\n",
    "       \n",
    "    jsonData = json.loads(data)\n",
    "    temp = str(jsonData['temperature'])         \n",
    "    \n",
    "    print(local,\" | \",temp)\n",
    "    \n",
    "    str1 = \"INSERT INTO HOME (LOCAL,TEMP) \\\n",
    "      VALUES (\"\n",
    "    str2 = local \n",
    "    str3 = \", \"\n",
    "    str4 = temp\n",
    "    str5 = \" )\"\n",
    "    insert = str1 + str2 + str3 + str4 + str5\n",
    "    conn.execute(insert)\n",
    "    conn.commit()\n",
    "\n",
    "subscribe.callback(print_msg, \"catm1topic\", hostname=\"broker.hivemq.com\")"
   ]
  },
  {
   "cell_type": "markdown",
   "metadata": {},
   "source": [
    "## SELECT QUERY\n",
    "\n",
    "* SQLite <b>SELECT</b> statement is used to <b>fetch</b> the data from a SQLite database table which returns data in the form of a result table. These result tables are also called result sets."
   ]
  },
  {
   "cell_type": "code",
   "execution_count": 24,
   "metadata": {
    "scrolled": false
   },
   "outputs": [
    {
     "name": "stdout",
     "output_type": "stream",
     "text": [
      "Opened database successfully\n",
      "\n",
      "     Date       | Temperature[°C]:\n",
      "==================================\n",
      "20190604114155  |  19.814\n",
      "20190604114205  |  19.814\n",
      "20190604114215  |  19.814\n",
      "20190604114225  |  19.814\n",
      "20190604114235  |  19.814\n",
      "20190604114245  |  19.814\n",
      "20190604114255  |  19.814\n",
      "20190604114312  |  20.21\n",
      "20190604114322  |  20.21\n",
      "20190604114331  |  20.21\n",
      "20190604114342  |  20.21\n",
      "20190604114351  |  20.21\n",
      "20190604114402  |  20.21\n",
      "20190604114416  |  21.11\n",
      "20190604114426  |  21.11\n",
      "20190604114436  |  21.11\n",
      "20190604114446  |  21.11\n",
      "20190604114458  |  22.716\n",
      "20190604114507  |  22.716\n",
      "20190604114517  |  22.716\n",
      "20190604114535  |  24.116\n",
      "20190604114545  |  24.116\n",
      "20190604114555  |  24.116\n",
      "20190604114616  |  25.114\n",
      "20190604114623  |  25.114\n",
      "20190604114633  |  25.114\n",
      "20190604114643  |  25.114\n",
      "20190604114657  |  26.119\n",
      "20190604114707  |  26.119\n",
      "20190604114717  |  26.119\n",
      "20190604114737  |  28.119\n",
      "20190604114746  |  28.119\n",
      "20190604114756  |  28.119\n",
      "20190604114808  |  29.511\n",
      "20190604114818  |  29.511\n",
      "20190604114833  |  30.911\n"
     ]
    }
   ],
   "source": [
    "#!/usr/bin/python\n",
    "\n",
    "import sqlite3\n",
    "\n",
    "conn = sqlite3.connect('sqliteLTECatM1')\n",
    "print(\"Opened database successfully\")\n",
    "print(\"\")\n",
    "print(\"     Date       | Temperature[°C]:\")\n",
    "print(\"==================================\")\n",
    "cursor = conn.execute(\"SELECT * from HOME WHERE TEMP\")\n",
    "for row in cursor:\n",
    "    print(row[0],\" | \",row[1])\n",
    "    \n",
    "conn.close()"
   ]
  },
  {
   "cell_type": "markdown",
   "metadata": {},
   "source": [
    "## SELECT QUERY & PUSH DATA INTO BOX"
   ]
  },
  {
   "cell_type": "code",
   "execution_count": 2,
   "metadata": {
    "scrolled": false
   },
   "outputs": [
    {
     "name": "stdout",
     "output_type": "stream",
     "text": [
      "Opened database successfully\n",
      "\n",
      "x(time) = \n",
      "[1, 2, 3, 4, 5, 6, 7, 8, 9, 10, 11, 12, 13, 14, 15, 16, 17, 18, 19, 20, 21, 22, 23, 24, 25, 26, 27, 28, 29, 30, 31, 32, 33, 34, 35, 36]\n",
      "\n",
      "y1(Temperature) = \n",
      "[19.814, 19.814, 19.814, 19.814, 19.814, 19.814, 19.814, 20.21, 20.21, 20.21, 20.21, 20.21, 20.21, 21.11, 21.11, 21.11, 21.11, 22.716, 22.716, 22.716, 24.116, 24.116, 24.116, 25.114, 25.114, 25.114, 25.114, 26.119, 26.119, 26.119, 28.119, 28.119, 28.119, 29.511, 29.511, 30.911]\n",
      "\n",
      "The temperature data is ascending.\n"
     ]
    }
   ],
   "source": [
    "import sqlite3\n",
    "\n",
    "class Stack:\n",
    "    \n",
    "    def __init__(self):\n",
    "        self.items = []\n",
    "\n",
    "    def isEmpty(self):\n",
    "        return self.items == []\n",
    "\n",
    "    def push(self, item):\n",
    "        self.items.append(item)\n",
    "\n",
    "    def pop(self, item):\n",
    "        return self.items.pop(item)\n",
    "\n",
    "    def peek(self):\n",
    "        return self.items[len(self.items)-1]\n",
    "\n",
    "    def size(self):\n",
    "        return len(self.items)\n",
    "\n",
    "\n",
    "tempBox = Stack()\n",
    "temPopBox = Stack() \n",
    "timeBox = Stack()\n",
    "\n",
    "conn = sqlite3.connect('sqliteLTECatM1')\n",
    "print(\"Opened database successfully\")\n",
    "print(\"\")\n",
    "\n",
    "cursor = conn.execute(\"SELECT * from HOME WHERE TEMP\")\n",
    "for row in cursor:\n",
    "    tempBox.push(row[1])\n",
    "    temPopBox.push(row[1])\n",
    "    \n",
    "    #print(row[0],row[1],row[2])\n",
    "\n",
    "# Making time = 1,2,3,4 .... n    \n",
    "max = len(tempBox.items)\n",
    "\n",
    "for count in range(1,max+1):\n",
    "    timeBox.push(count)\n",
    "print(\"x(time) = \")    \n",
    "print(timeBox.items)\n",
    "print(\"\")\n",
    "print(\"y1(Temperature) = \") \n",
    "print(tempBox.items)\n",
    "print(\"\")\n",
    "\n",
    "xTime = timeBox.items\n",
    "y1Data = tempBox.items\n",
    "\n",
    "# Comparing between max and min in tData\n",
    "highTemBit = y1Data.pop(max-1)\n",
    "lowTemBit = y1Data.pop(0)\n",
    "\n",
    "\n",
    "if highTemBit > lowTemBit:\n",
    "    print(\"The temperature data is ascending.\")\n",
    "\n",
    "elif highTemBit < lowTemBit:\n",
    "    print(\"The temperature data is descending.\")\n",
    "    \n",
    "elif highTemBit == lowTemBit:\n",
    "    print(\"The temperature data is stable.\")\n",
    "    \n",
    "conn.close()"
   ]
  },
  {
   "cell_type": "code",
   "execution_count": 3,
   "metadata": {
    "scrolled": true
   },
   "outputs": [
    {
     "name": "stdout",
     "output_type": "stream",
     "text": [
      "Max & Min Temperature:\n",
      "30.911\n",
      "19.814\n"
     ]
    }
   ],
   "source": [
    "print(\"Max & Min Temperature:\")\n",
    "print(highTemBit)\n",
    "print(lowTemBit)"
   ]
  },
  {
   "cell_type": "markdown",
   "metadata": {},
   "source": [
    "## Export CSV file"
   ]
  },
  {
   "cell_type": "code",
   "execution_count": 4,
   "metadata": {},
   "outputs": [],
   "source": [
    "import sqlite3\n",
    "import csv\n",
    "\n",
    "sqlconnector = sqlite3.connect('sqliteLTECatM1')\n",
    "sql3_cursor = sqlconnector.cursor()\n",
    "sql3_cursor.execute('SELECT * FROM HOME')\n",
    "with open('temp_catm1.csv','w') as out_csv_file:\n",
    "  csv_out = csv.writer(out_csv_file)\n",
    "  # write header                        \n",
    "  csv_out.writerow([d[0] for d in sql3_cursor.description])\n",
    "  # write data                          \n",
    "  for result in sql3_cursor:\n",
    "    csv_out.writerow(result)\n",
    "sqlconnector.close()"
   ]
  },
  {
   "cell_type": "code",
   "execution_count": 5,
   "metadata": {
    "scrolled": false
   },
   "outputs": [
    {
     "name": "stdout",
     "output_type": "stream",
     "text": [
      "mydb_hum.csv   mydb_temp.csv  pm10.csv       pm25.csv       temp_catm1.csv\r\n"
     ]
    }
   ],
   "source": [
    "!ls *.csv"
   ]
  },
  {
   "cell_type": "code",
   "execution_count": 6,
   "metadata": {
    "scrolled": false
   },
   "outputs": [
    {
     "name": "stdout",
     "output_type": "stream",
     "text": [
      "LOCAL,TEMP\r",
      "\r\n",
      "20190604114155,19.814\r",
      "\r\n",
      "20190604114205,19.814\r",
      "\r\n",
      "20190604114215,19.814\r",
      "\r\n",
      "20190604114225,19.814\r",
      "\r\n",
      "20190604114235,19.814\r",
      "\r\n",
      "20190604114245,19.814\r",
      "\r\n",
      "20190604114255,19.814\r",
      "\r\n",
      "20190604114312,20.21\r",
      "\r\n",
      "20190604114322,20.21\r",
      "\r\n",
      "20190604114331,20.21\r",
      "\r\n",
      "20190604114342,20.21\r",
      "\r\n",
      "20190604114351,20.21\r",
      "\r\n",
      "20190604114402,20.21\r",
      "\r\n",
      "20190604114416,21.11\r",
      "\r\n",
      "20190604114426,21.11\r",
      "\r\n",
      "20190604114436,21.11\r",
      "\r\n",
      "20190604114446,21.11\r",
      "\r\n",
      "20190604114458,22.716\r",
      "\r\n",
      "20190604114507,22.716\r",
      "\r\n",
      "20190604114517,22.716\r",
      "\r\n",
      "20190604114535,24.116\r",
      "\r\n",
      "20190604114545,24.116\r",
      "\r\n",
      "20190604114555,24.116\r",
      "\r\n",
      "20190604114616,25.114\r",
      "\r\n",
      "20190604114623,25.114\r",
      "\r\n",
      "20190604114633,25.114\r",
      "\r\n",
      "20190604114643,25.114\r",
      "\r\n",
      "20190604114657,26.119\r",
      "\r\n",
      "20190604114707,26.119\r",
      "\r\n",
      "20190604114717,26.119\r",
      "\r\n",
      "20190604114737,28.119\r",
      "\r\n",
      "20190604114746,28.119\r",
      "\r\n",
      "20190604114756,28.119\r",
      "\r\n",
      "20190604114808,29.511\r",
      "\r\n",
      "20190604114818,29.511\r",
      "\r\n",
      "20190604114833,30.911\r",
      "\r\n"
     ]
    }
   ],
   "source": [
    "!cat temp_catm1.csv"
   ]
  },
  {
   "cell_type": "code",
   "execution_count": 9,
   "metadata": {
    "scrolled": true
   },
   "outputs": [],
   "source": [
    "# create and evaluate an updated autoregressive model\n",
    "import pandas as pa\n",
    "import matplotlib as plot\n",
    "from pandas import read_csv\n",
    "from matplotlib import pyplot\n",
    "from statsmodels.tsa.ar_model import AR\n",
    "from sklearn.metrics import mean_squared_error\n",
    "from math import sqrt\n",
    "# load dataset\n",
    "series = read_csv('temp_catm1.csv', header=0, index_col=0, parse_dates=True, squeeze=True)\n",
    "#\n",
    "# Data sets"
   ]
  },
  {
   "cell_type": "code",
   "execution_count": 10,
   "metadata": {
    "scrolled": true
   },
   "outputs": [
    {
     "data": {
      "text/plain": [
       "count    36.000000\n",
       "mean     23.277694\n",
       "std       3.407104\n",
       "min      19.814000\n",
       "25%      20.210000\n",
       "50%      22.716000\n",
       "75%      25.365250\n",
       "max      30.911000\n",
       "Name: TEMP, dtype: float64"
      ]
     },
     "execution_count": 10,
     "metadata": {},
     "output_type": "execute_result"
    }
   ],
   "source": [
    "#view basic stats information on data\n",
    "series.describe()"
   ]
  },
  {
   "cell_type": "code",
   "execution_count": 11,
   "metadata": {
    "scrolled": false
   },
   "outputs": [
    {
     "data": {
      "text/plain": [
       "LOCAL\n",
       "2019-06-04 11:41:55    19.814\n",
       "2019-06-04 11:42:05    19.814\n",
       "2019-06-04 11:42:15    19.814\n",
       "2019-06-04 11:42:25    19.814\n",
       "2019-06-04 11:42:35    19.814\n",
       "Name: TEMP, dtype: float64"
      ]
     },
     "execution_count": 11,
     "metadata": {},
     "output_type": "execute_result"
    }
   ],
   "source": [
    "#get data\n",
    "def GetData(fileName):\n",
    "    return read_csv(fileName, header=0, parse_dates=[0], index_col=0)\n",
    "\n",
    "#read time series from the exchange.csv file \n",
    "\n",
    "#view top 10 records\n",
    "series.head(5)"
   ]
  },
  {
   "cell_type": "code",
   "execution_count": 12,
   "metadata": {
    "scrolled": true
   },
   "outputs": [
    {
     "data": {
      "image/png": "[encoded data removed]",
      "text/plain": [
       "<matplotlib.figure.Figure at 0x113a12a90>"
      ]
     },
     "metadata": {
      "needs_background": "light"
     },
     "output_type": "display_data"
    }
   ],
   "source": [
    "# create a histogram plot\n",
    "from pandas import read_csv\n",
    "from matplotlib import pyplot\n",
    "series = read_csv('temp_catm1.csv', header=0, index_col=0, parse_dates=True, squeeze=True)\n",
    "series.hist()\n",
    "pyplot.show()"
   ]
  },
  {
   "cell_type": "code",
   "execution_count": 13,
   "metadata": {
    "scrolled": true
   },
   "outputs": [
    {
     "data": {
      "image/png": "[encoded data removed]",
      "text/plain": [
       "<matplotlib.figure.Figure at 0x113adc668>"
      ]
     },
     "metadata": {
      "needs_background": "light"
     },
     "output_type": "display_data"
    }
   ],
   "source": [
    "# create a density plot\n",
    "from pandas import read_csv\n",
    "from matplotlib import pyplot\n",
    "series = read_csv('temp_catm1.csv', header=0, index_col=0, parse_dates=True, squeeze=True)\n",
    "series.plot(kind='kde')\n",
    "pyplot.show()"
   ]
  },
  {
   "cell_type": "code",
   "execution_count": 14,
   "metadata": {
    "scrolled": true
   },
   "outputs": [
    {
     "data": {
      "image/png": "[encoded data removed]",
      "text/plain": [
       "<matplotlib.figure.Figure at 0x113b50eb8>"
      ]
     },
     "metadata": {
      "needs_background": "light"
     },
     "output_type": "display_data"
    }
   ],
   "source": [
    "from pandas import Series\n",
    "from matplotlib import pyplot\n",
    "from pandas.plotting import lag_plot\n",
    "lag_plot(series)\n",
    "pyplot.show()"
   ]
  },
  {
   "cell_type": "code",
   "execution_count": 15,
   "metadata": {},
   "outputs": [
    {
     "name": "stdout",
     "output_type": "stream",
     "text": [
      "         t     t+1\n",
      "0      NaN  19.814\n",
      "1   19.814  19.814\n",
      "2   19.814  19.814\n",
      "3   19.814  19.814\n",
      "4   19.814  19.814\n",
      "5   19.814  19.814\n",
      "6   19.814  19.814\n",
      "7   19.814  20.210\n",
      "8   20.210  20.210\n",
      "9   20.210  20.210\n",
      "10  20.210  20.210\n",
      "11  20.210  20.210\n",
      "12  20.210  20.210\n",
      "13  20.210  21.110\n",
      "14  21.110  21.110\n",
      "15  21.110  21.110\n",
      "16  21.110  21.110\n",
      "17  21.110  22.716\n",
      "18  22.716  22.716\n",
      "19  22.716  22.716\n",
      "20  22.716  24.116\n",
      "21  24.116  24.116\n",
      "22  24.116  24.116\n",
      "23  24.116  25.114\n",
      "24  25.114  25.114\n",
      "25  25.114  25.114\n",
      "26  25.114  25.114\n",
      "27  25.114  26.119\n",
      "28  26.119  26.119\n",
      "29  26.119  26.119\n",
      "30  26.119  28.119\n",
      "31  28.119  28.119\n",
      "32  28.119  28.119\n",
      "33  28.119  29.511\n",
      "34  29.511  29.511\n",
      "35  29.511  30.911\n"
     ]
    }
   ],
   "source": [
    "# correlation of lag=1\n",
    "from pandas import read_csv\n",
    "from pandas import DataFrame\n",
    "from pandas import concat\n",
    "series = read_csv('temp_catm1.csv', header=0, index_col=0, parse_dates=True, squeeze=True)\n",
    "values = DataFrame(series.values)\n",
    "dataframe = concat([values.shift(1), values], axis=1)\n",
    "dataframe.columns = ['t', 't+1']\n",
    "result = dataframe\n",
    "print(result)"
   ]
  },
  {
   "cell_type": "markdown",
   "metadata": {},
   "source": [
    "### Autocorrelation (자기상관도)"
   ]
  },
  {
   "cell_type": "code",
   "execution_count": 17,
   "metadata": {
    "scrolled": true
   },
   "outputs": [
    {
     "data": {
      "image/png": "[encoded data removed]",
      "text/plain": [
       "<matplotlib.figure.Figure at 0x113cea390>"
      ]
     },
     "metadata": {
      "needs_background": "light"
     },
     "output_type": "display_data"
    }
   ],
   "source": [
    "# autocorrelation plot of time series\n",
    "from pandas import read_csv\n",
    "from matplotlib import pyplot\n",
    "from statsmodels.graphics.tsaplots import plot_acf\n",
    "series = read_csv('temp_catm1.csv', header=0, index_col=0, parse_dates=True, squeeze=True)\n",
    "plot_acf(series, lags=35)\n",
    "pyplot.show()"
   ]
  },
  {
   "cell_type": "code",
   "execution_count": 18,
   "metadata": {},
   "outputs": [
    {
     "data": {
      "image/png": "[encoded data removed]",
      "text/plain": [
       "<matplotlib.figure.Figure at 0x1146cb2b0>"
      ]
     },
     "metadata": {
      "needs_background": "light"
     },
     "output_type": "display_data"
    }
   ],
   "source": [
    "# autocorrelation plot of time series\n",
    "from pandas import read_csv\n",
    "from matplotlib import pyplot\n",
    "from pandas.plotting import autocorrelation_plot\n",
    "series = read_csv('temp_catm1.csv', header=0, index_col=0, parse_dates=True, squeeze=True)\n",
    "autocorrelation_plot(series)\n",
    "pyplot.show()"
   ]
  },
  {
   "cell_type": "code",
   "execution_count": 21,
   "metadata": {
    "scrolled": false
   },
   "outputs": [
    {
     "name": "stdout",
     "output_type": "stream",
     "text": [
      "{sensor:21.110000,prediction:21.110000}\n",
      "{sensor:22.716000,prediction:21.110000}\n",
      "{sensor:22.716000,prediction:22.700089}\n",
      "{sensor:22.716000,prediction:24.745543}\n",
      "{sensor:24.116000,prediction:22.720354}\n",
      "{sensor:24.116000,prediction:24.106483}\n",
      "{sensor:24.116000,prediction:24.106483}\n",
      "{sensor:25.114000,prediction:27.756483}\n",
      "{sensor:25.114000,prediction:25.130758}\n",
      "{sensor:25.114000,prediction:25.130758}\n",
      "{sensor:25.114000,prediction:28.312576}\n",
      "{sensor:26.119000,prediction:25.162282}\n",
      "{sensor:26.119000,prediction:26.157325}\n",
      "{sensor:26.119000,prediction:28.425507}\n",
      "{sensor:28.119000,prediction:26.179797}\n",
      "{sensor:28.119000,prediction:28.159982}\n",
      "{sensor:28.119000,prediction:28.159982}\n",
      "{sensor:29.511000,prediction:30.444073}\n",
      "{sensor:29.511000,prediction:29.560820}\n",
      "{sensor:30.911000,prediction:29.560820}\n",
      "{TestRMSE:1.388}\n"
     ]
    },
    {
     "data": {
      "image/png": "[encoded data removed]",
      "text/plain": [
       "<matplotlib.figure.Figure at 0x115116828>"
      ]
     },
     "metadata": {
      "needs_background": "light"
     },
     "output_type": "display_data"
    }
   ],
   "source": [
    "# create and evaluate an updated autoregressive model\n",
    "from pandas import read_csv\n",
    "from matplotlib import pyplot\n",
    "from statsmodels.tsa.ar_model import AR\n",
    "from sklearn.metrics import mean_squared_error\n",
    "from math import sqrt\n",
    "\n",
    "# load dataset\n",
    "series = read_csv('temp_catm1.csv', header=0, index_col=0, parse_dates=True, squeeze=True)\n",
    "\n",
    "# split dataset\n",
    "X = series.values\n",
    "testLength = 20;\n",
    "train, test = X[1:len(X)-testLength], X[len(X)-testLength:]\n",
    "\n",
    "# train autoregression\n",
    "model = AR(train)\n",
    "model_fit = model.fit()\n",
    "window = model_fit.k_ar\n",
    "coef = model_fit.params\n",
    "\n",
    "# walk forward over time steps in test\n",
    "history = train[len(train)-window:]\n",
    "history = [history[i] for i in range(len(history))]\n",
    "predictions = list()\n",
    "for t in range(len(test)):\n",
    "    length = len(history)\n",
    "    lag = [history[i] for i in range(length-window,length)]\n",
    "    yhat = coef[0]\n",
    "    for d in range(window):\n",
    "        yhat += coef[d+1] * lag[window-d-1]\n",
    "    obs = test[t]\n",
    "    predictions.append(yhat)\n",
    "    history.append(obs)\n",
    "    print('{sensor:%f,prediction:%f}' % (obs, yhat))\n",
    "rmse = sqrt(mean_squared_error(test, predictions))\n",
    "\n",
    "print('{TestRMSE:%.3f}' % rmse)\n",
    "# plot\n",
    "pyplot.plot(test)\n",
    "pyplot.plot(predictions, color='red')\n",
    "pyplot.show()"
   ]
  },
  {
   "cell_type": "code",
   "execution_count": 22,
   "metadata": {},
   "outputs": [
    {
     "name": "stdout",
     "output_type": "stream",
     "text": [
      "Test RMSE: 0.664\n"
     ]
    },
    {
     "data": {
      "image/png": "[encoded data removed]",
      "text/plain": [
       "<matplotlib.figure.Figure at 0x115020358>"
      ]
     },
     "metadata": {
      "needs_background": "light"
     },
     "output_type": "display_data"
    }
   ],
   "source": [
    "# evaluate a persistence model\n",
    "from pandas import read_csv\n",
    "from pandas import DataFrame\n",
    "from pandas import concat\n",
    "from matplotlib import pyplot\n",
    "from sklearn.metrics import mean_squared_error\n",
    "from math import sqrt\n",
    "\n",
    "# load dataset\n",
    "series = read_csv('temp_catm1.csv', header=0, index_col=0, parse_dates=True, squeeze=True)\n",
    "# create lagged dataset\n",
    "values = DataFrame(series.values)\n",
    "dataframe = concat([values.shift(1), values], axis=1)\n",
    "dataframe.columns = ['t', 't+1']\n",
    "# split into train and test sets\n",
    "X = dataframe.values\n",
    "testLength = 35;\n",
    "train, test = X[1:len(X)-testLength], X[len(X)-testLength:]\n",
    "train_X, train_y = train[:,0], train[:,1]\n",
    "test_X, test_y = test[:,0], test[:,1]\n",
    "# persistence model\n",
    "def model_persistence(x):\n",
    "    return x\n",
    "# walk-forward validation\n",
    "predictions = list()\n",
    "for x in test_X:\n",
    "    yhat = model_persistence(x)\n",
    "    predictions.append(yhat)\n",
    "rmse = sqrt(mean_squared_error(test_y, predictions))\n",
    "print('Test RMSE: %.3f' % rmse)\n",
    "# plot predictions vs expected\n",
    "pyplot.plot(test_y)\n",
    "pyplot.plot(predictions, color='red')\n",
    "pyplot.show()"
   ]
  },
  {
   "cell_type": "markdown",
   "metadata": {
    "collapsed": true
   },
   "source": [
    "## References"
   ]
  },
  {
   "cell_type": "markdown",
   "metadata": {},
   "source": [
    "- How to Install SQLite On Windows/ Linux / Mac OS X: http://www.codebind.com/sqlite/how-to-install-sqlite-on/"
   ]
  },
  {
   "cell_type": "code",
   "execution_count": null,
   "metadata": {},
   "outputs": [],
   "source": [
    "# END"
   ]
  }
 ],
 "metadata": {
  "kernelspec": {
   "display_name": "Python 2",
   "language": "python",
   "name": "python2"
  },
  "language_info": {
   "codemirror_mode": {
    "name": "ipython",
    "version": 3
   },
   "file_extension": ".py",
   "mimetype": "text/x-python",
   "name": "python",
   "nbconvert_exporter": "python",
   "pygments_lexer": "ipython3",
   "version": "3.6.4"
  }
 },
 "nbformat": 4,
 "nbformat_minor": 2
}
