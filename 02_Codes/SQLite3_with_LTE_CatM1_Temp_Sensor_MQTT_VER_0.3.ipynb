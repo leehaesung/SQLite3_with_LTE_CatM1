{
 "cells": [
  {
   "cell_type": "markdown",
   "metadata": {},
   "source": [
    "# 주피터 노트북(파이썬)에서 실시간 온도 데이타를 SQL에 저장하고 시계열분석하기"
   ]
  },
  {
   "cell_type": "markdown",
   "metadata": {},
   "source": [
    "<img src=\"https://raw.githubusercontent.com/leehaesung/SQLite3_with_LTE_CatM1/master/01_Images/01_Setting.png\" height=\"500\" width=\"550\" >\n",
    "\n",
    "<img src=\"https://raw.githubusercontent.com/leehaesung/SQLite3_with_LTE_CatM1/master/01_Images/Figure_1.png\" height=\"500\" width=\"450\" >"
   ]
  },
  {
   "cell_type": "markdown",
   "metadata": {},
   "source": [
    "* How to install Paho-MQTT on Linux/Mac :\n",
    "```\n",
    "sudo pip install paho-mqtt\n",
    "```\n",
    "\n",
    "* How to install SQLite3 on Linux/Mac:\n",
    "```\n",
    "sudo apt-get update\n",
    "sudo apt-get install sqlite3 libsqlite3-dev\n",
    "```"
   ]
  },
  {
   "cell_type": "code",
   "execution_count": 1,
   "metadata": {
    "scrolled": true
   },
   "outputs": [
    {
     "name": "stdout",
     "output_type": "stream",
     "text": [
      "Requirement already satisfied: paho-mqtt in /Library/Frameworks/Python.framework/Versions/3.6/lib/python3.6/site-packages (1.4.0)\n",
      "\u001b[33mYou are using pip version 19.0.3, however version 19.1.1 is available.\n",
      "You should consider upgrading via the 'pip install --upgrade pip' command.\u001b[0m\n"
     ]
    }
   ],
   "source": [
    "!pip install paho-mqtt"
   ]
  },
  {
   "cell_type": "markdown",
   "metadata": {},
   "source": [
    "## Eclipse Paho™ MQTT Python Pub/Sub Client"
   ]
  },
  {
   "cell_type": "code",
   "execution_count": 1,
   "metadata": {
    "scrolled": true
   },
   "outputs": [
    {
     "name": "stdout",
     "output_type": "stream",
     "text": [
      "catm1topic\n",
      "b'{\"device\":\"catm1\",\"temperature\":\"24.730\"}'\n",
      "{'device': 'catm1', 'temperature': '24.730'}\n",
      "24.730\n",
      "catm1topic\n",
      "b'{\"device\":\"catm1\",\"temperature\":\"25.206\"}'\n",
      "{'device': 'catm1', 'temperature': '25.206'}\n",
      "25.206\n"
     ]
    }
   ],
   "source": [
    "import sys\n",
    "import json\n",
    "\n",
    "try:\n",
    "    import paho.mqtt.subscribe as subscribe\n",
    "except ImportError:\n",
    "    # This part is only required to run the example from within the examples\n",
    "    # directory when the module itself is not installed.\n",
    "    #\n",
    "    # If you have the module installed, just use \"import paho.mqtt.subscribe\"\n",
    "    import os\n",
    "    import inspect\n",
    "    cmd_subfolder = os.path.realpath(os.path.abspath(os.path.join(os.path.split(inspect.getfile( inspect.currentframe() ))[0],\"../src\")))\n",
    "    if cmd_subfolder not in sys.path:\n",
    "        sys.path.insert(0, cmd_subfolder)\n",
    "    import paho.mqtt.subscribe as subscribe\n",
    "    import paho.mqtt.client\n",
    "\n",
    "topics = ['catm1topic']\n",
    "\n",
    "m = subscribe.simple(topics, hostname=\"broker.hivemq.com\", retained=False, msg_count=2)\n",
    "for a in m:\n",
    "    print(a.topic)\n",
    "    print(a.payload)\n",
    "    da = json.loads(a.payload)\n",
    "    print(da)\n",
    "    json_data = da[\"temperature\"]\n",
    "    print(json_data)"
   ]
  },
  {
   "cell_type": "markdown",
   "metadata": {},
   "source": [
    "## DROP TABLE\n",
    "#### 생략하고 진행 혹은 필요시만\n",
    "\n",
    "* SQLite <b>DROP TABLE</b> statement is used to <b>remove</b> a table definition and all associated data, indexes, triggers, constraints, and permission specifications for that table."
   ]
  },
  {
   "cell_type": "code",
   "execution_count": 2,
   "metadata": {
    "scrolled": false
   },
   "outputs": [
    {
     "name": "stdout",
     "output_type": "stream",
     "text": [
      "Deleted the table successfully\n"
     ]
    }
   ],
   "source": [
    "import sqlite3\n",
    "conn = sqlite3.connect('sqliteLTECatM1')\n",
    "cur = conn.cursor()\n",
    "sql = \"DROP TABLE HOME;\"\n",
    "cur.execute(sql)\n",
    "print(\"Deleted the table successfully\");\n",
    "conn.commit()\n",
    "conn.close()"
   ]
  },
  {
   "cell_type": "markdown",
   "metadata": {},
   "source": [
    "## CREATE TABLE\n",
    "\n",
    "* SQLite <b>CREATE TABLE</b> statement is used to <b>create</b> a new table in any of the given database. Creating a basic table involves naming the table and defining its columns and each column's data type."
   ]
  },
  {
   "cell_type": "code",
   "execution_count": 29,
   "metadata": {
    "scrolled": false
   },
   "outputs": [
    {
     "name": "stdout",
     "output_type": "stream",
     "text": [
      "Table created successfully\n"
     ]
    }
   ],
   "source": [
    "import sqlite3\n",
    "\n",
    "conn = sqlite3.connect('sqliteLTECatM1')\n",
    "conn.execute('''CREATE TABLE HOME(\n",
    "    LOCAL INT PRIMARY KEY NOT NULL, \n",
    "    TEMP INT NOT NULL\n",
    "    );''')\n",
    "print(\"Table created successfully\");\n",
    "\n",
    "conn.close()"
   ]
  },
  {
   "cell_type": "markdown",
   "metadata": {},
   "source": [
    "## INSERT QUERY FOR UNIT TESTING\n",
    "\n",
    "* SQLite <b>INSERT INTO</b> Statement is used to <b>add</b> new rows of data into a table in the database."
   ]
  },
  {
   "cell_type": "code",
   "execution_count": 6,
   "metadata": {
    "scrolled": false
   },
   "outputs": [
    {
     "name": "stdout",
     "output_type": "stream",
     "text": [
      "Opened database successfully\n",
      "Records created successfully\n"
     ]
    }
   ],
   "source": [
    "import sqlite3\n",
    "\n",
    "conn = sqlite3.connect('sqliteLTECatM1')\n",
    "print(\"Opened database successfully\");\n",
    "\n",
    "conn.execute(\"INSERT INTO HOME (LOCAL,TEMP) \\\n",
    "      VALUES (20190604033350, 24)\");\n",
    "\n",
    "conn.commit()\n",
    "print(\"Records created successfully\");\n",
    "conn.close()"
   ]
  },
  {
   "cell_type": "markdown",
   "metadata": {},
   "source": [
    "## SEARCH THE SPECIFIC TEMPERATURE DATA\n",
    "\n",
    "* SQLite <b>SELECT</b> statement is used to <b>fetch</b> the data from a SQLite database table which returns data in the form of a result table. These result tables are also called result sets."
   ]
  },
  {
   "cell_type": "code",
   "execution_count": 7,
   "metadata": {
    "scrolled": false
   },
   "outputs": [
    {
     "name": "stdout",
     "output_type": "stream",
     "text": [
      "Opened database successfully\n",
      "Local Time   =  20190604033350\n",
      "Temperature  =  24\n",
      "\n",
      "\n",
      "Operation done successfully\n"
     ]
    }
   ],
   "source": [
    "import sqlite3\n",
    "\n",
    "conn = sqlite3.connect('sqliteLTECatM1')\n",
    "print(\"Opened database successfully\");\n",
    "\n",
    "cursor = conn.execute(\"SELECT * from HOME WHERE TEMP = 24\")\n",
    "for row in cursor:\n",
    "    print(\"Local Time   = \", row[0])\n",
    "    print(\"Temperature  = \", row[1])\n",
    "    print(\"\\n\")\n",
    "   \n",
    "\n",
    "print(\"Operation done successfully\");\n",
    "conn.close()"
   ]
  },
  {
   "cell_type": "code",
   "execution_count": 10,
   "metadata": {
    "scrolled": false
   },
   "outputs": [
    {
     "name": "stdout",
     "output_type": "stream",
     "text": [
      "Opened database successfully\n",
      "\n",
      "     Date       | Temperature[°C]:\n",
      "==================================\n",
      "20190604033350  |  24\n"
     ]
    }
   ],
   "source": [
    "#!/usr/bin/python\n",
    "\n",
    "import sqlite3\n",
    "\n",
    "conn = sqlite3.connect('sqliteLTECatM1');\n",
    "print(\"Opened database successfully\");\n",
    "print(\"\");\n",
    "print(\"     Date       | Temperature[°C]:\")\n",
    "print(\"==================================\")\n",
    "cursor = conn.execute(\"SELECT * from HOME WHERE TEMP = 24\")\n",
    "for row in cursor:\n",
    "    print(row[0],\" | \",row[1])\n",
    "    \n",
    "conn.close()"
   ]
  },
  {
   "cell_type": "markdown",
   "metadata": {},
   "source": [
    "### Searching Temperature Data"
   ]
  },
  {
   "cell_type": "code",
   "execution_count": 13,
   "metadata": {},
   "outputs": [],
   "source": [
    "import sqlite3\n",
    "\n",
    "def search_temperature(temp):\n",
    "    conn = sqlite3.connect('sqliteLTECatM1')\n",
    "\n",
    "    str1 = \"SELECT * FROM HOME WHERE TEMP = \"\n",
    "    str2 = str(temp)\n",
    "    str3 = \";\"\n",
    "    sql = str1 + str2 + str3\n",
    "    cursor = conn.execute(sql)\n",
    "\n",
    "    print(\"Opened database successfully\")\n",
    "    print(\"\")\n",
    "    print(\"     Date       | Temperature[°C]:\")\n",
    "    print(\"==================================\")\n",
    "    \n",
    "    for row in cursor:\n",
    "        print(row[0],\" | \",row[1])"
   ]
  },
  {
   "cell_type": "code",
   "execution_count": 14,
   "metadata": {
    "scrolled": true
   },
   "outputs": [
    {
     "name": "stdout",
     "output_type": "stream",
     "text": [
      "Opened database successfully\n",
      "\n",
      "     Date       | Temperature[°C]:\n",
      "==================================\n",
      "20190604033350  |  24\n"
     ]
    }
   ],
   "source": [
    "# Put any temperature.\n",
    "search_temperature(24)"
   ]
  },
  {
   "cell_type": "markdown",
   "metadata": {},
   "source": [
    "## DELETE QUERY\n",
    "\n",
    "* SQLite <b>DELETE QUERY</b> is used to <b>delete</b> the existing records from a table. You can use WHERE clause with <b>DELETE QUERY</b> to <b>delete</b> the selected rows, otherwise all the records would be deleted."
   ]
  },
  {
   "cell_type": "code",
   "execution_count": 15,
   "metadata": {
    "scrolled": true
   },
   "outputs": [
    {
     "name": "stdout",
     "output_type": "stream",
     "text": [
      "Opened database successfully\n",
      "Total number of rows deleted : 1\n",
      "\n",
      "    Date      | Temperature[°C]:\n",
      "==================================\n",
      "DELETE Operation done successfully\n"
     ]
    }
   ],
   "source": [
    "import sqlite3\n",
    "\n",
    "conn = sqlite3.connect('sqliteLTECatM1')\n",
    "print(\"Opened database successfully\");\n",
    "\n",
    "conn.execute(\"DELETE from HOME where LOCAL = 20190604033350;\")\n",
    "#conn.execute(\"DELETE FROM HOME WHERE TIME BETWEEN 1514283551781 AND 1514285943367;\")\n",
    "conn.commit()\n",
    "print(\"Total number of rows deleted :\", conn.total_changes)\n",
    "\n",
    "print(\"\")\n",
    "print(\"    Date      | Temperature[°C]:\")\n",
    "print(\"==================================\")\n",
    "cursor = conn.execute(\"SELECT * from HOME\")\n",
    "for row in cursor:\n",
    "    print(row[0],row[1])\n",
    "\n",
    "print(\"DELETE Operation done successfully\")\n",
    "conn.close()"
   ]
  },
  {
   "cell_type": "markdown",
   "metadata": {},
   "source": [
    "##  INSERT QUERY (IN REAL TIME)\n",
    "#### 종료하기위해서는 저장한후에 주피터를 실행했던 터미널 커맨드창에서 Ctrl + C 누릅니다.  다시 주피터를 열어주세요.\n",
    "\n",
    "* SQLite <b>INSERT INTO</b> Statement is used to <b>add</b> new rows of data into a table in the database."
   ]
  },
  {
   "cell_type": "code",
   "execution_count": null,
   "metadata": {
    "scrolled": false
   },
   "outputs": [
    {
     "name": "stdout",
     "output_type": "stream",
     "text": [
      "Table created successfully\n",
      "Database opend successfully\n",
      "\n",
      "INSERT OPERATION\n",
      "     Date       | Temperature[°C]:\n",
      "==================================\n",
      "20190604205814  |  25.206\n",
      "20190604205822  |  25.206\n",
      "20190604205829  |  25.206\n",
      "20190604205837  |  26.157\n",
      "20190604205844  |  24.255\n",
      "20190604205851  |  26.157\n",
      "20190604205859  |  25.682\n",
      "20190604205906  |  26.157\n",
      "20190604205914  |  24.255\n",
      "20190604205921  |  24.730\n",
      "20190604205929  |  25.682\n",
      "20190604205936  |  26.157\n",
      "20190604205944  |  25.682\n",
      "20190604205951  |  26.633\n",
      "20190604205959  |  24.730\n",
      "20190604210006  |  26.633\n",
      "20190604210013  |  26.633\n",
      "20190604210021  |  24.730\n",
      "20190604210028  |  24.730\n",
      "20190604210036  |  26.157\n",
      "20190604210043  |  26.157\n",
      "20190604210051  |  26.157\n",
      "20190604210058  |  24.730\n",
      "20190604210106  |  26.157\n",
      "20190604210113  |  26.157\n",
      "20190604210120  |  26.157\n",
      "20190604210128  |  26.633\n",
      "20190604210135  |  27.108\n",
      "20190604210143  |  24.730\n",
      "20190604210150  |  25.682\n",
      "20190604210158  |  26.157\n",
      "20190604210205  |  27.108\n",
      "20190604210212  |  26.157\n",
      "20190604210220  |  25.682\n",
      "20190604210227  |  25.682\n",
      "20190604210235  |  27.108\n",
      "20190604210242  |  26.633\n",
      "20190604210250  |  26.157\n",
      "20190604210257  |  27.108\n",
      "20190604210305  |  26.633\n",
      "20190604210312  |  26.157\n",
      "20190604210320  |  26.157\n",
      "20190604210327  |  27.584\n",
      "20190604210334  |  26.633\n",
      "20190604210342  |  26.633\n",
      "20190604210349  |  26.157\n",
      "20190604210357  |  27.108\n",
      "20190604210404  |  26.633\n",
      "20190604210412  |  27.108\n",
      "20190604210419  |  26.633\n",
      "20190604210427  |  28.060\n",
      "20190604210434  |  26.633\n",
      "20190604210441  |  27.108\n",
      "20190604210449  |  28.060\n",
      "20190604210456  |  26.157\n",
      "20190604210504  |  27.584\n",
      "20190604210511  |  26.633\n",
      "20190604210519  |  27.584\n",
      "20190604210526  |  26.633\n",
      "20190604210534  |  26.157\n",
      "20190604210541  |  26.633\n",
      "20190604210548  |  26.633\n",
      "20190604210556  |  26.633\n",
      "20190604210604  |  27.584\n",
      "20190604210611  |  27.108\n",
      "20190604210618  |  27.108\n",
      "20190604210626  |  27.108\n",
      "20190604210634  |  28.060\n",
      "20190604210641  |  26.157\n",
      "20190604210649  |  27.108\n",
      "20190604210656  |  28.060\n",
      "20190604210703  |  27.108\n",
      "20190604210711  |  26.633\n",
      "20190604210718  |  27.584\n",
      "20190604210726  |  26.157\n",
      "20190604210733  |  27.584\n",
      "20190604210741  |  28.535\n",
      "20190604210748  |  28.060\n",
      "20190604210756  |  27.584\n",
      "20190604210803  |  28.060\n",
      "20190604210810  |  29.011\n",
      "20190604210818  |  28.060\n",
      "20190604210825  |  28.060\n",
      "20190604210833  |  27.108\n",
      "20190604210840  |  28.535\n",
      "20190604210848  |  27.584\n",
      "20190604210855  |  27.584\n",
      "20190604210902  |  27.584\n",
      "20190604210910  |  26.157\n",
      "20190604210917  |  27.108\n",
      "20190604210925  |  26.633\n",
      "20190604210932  |  26.157\n",
      "20190604210940  |  28.535\n",
      "20190604210947  |  29.011\n",
      "20190604210954  |  27.108\n",
      "20190604211002  |  27.584\n",
      "20190604211009  |  27.584\n",
      "20190604211017  |  28.060\n",
      "20190604211024  |  28.535\n",
      "20190604211032  |  27.584\n",
      "20190604211039  |  28.060\n",
      "20190604211047  |  28.060\n",
      "20190604211054  |  25.682\n",
      "20190604211101  |  27.584\n",
      "20190604211109  |  25.682\n",
      "20190604211116  |  27.108\n",
      "20190604211124  |  27.108\n",
      "20190604211131  |  27.584\n",
      "20190604211139  |  29.011\n",
      "20190604211146  |  27.584\n",
      "20190604211153  |  27.584\n",
      "20190604211201  |  27.108\n",
      "20190604211208  |  26.633\n",
      "20190604211216  |  27.108\n",
      "20190604211223  |  28.060\n",
      "20190604211231  |  29.011\n",
      "20190604211238  |  28.060\n",
      "20190604211246  |  28.060\n",
      "20190604211253  |  27.584\n",
      "20190604211300  |  26.633\n",
      "20190604211308  |  27.584\n",
      "20190604211315  |  28.060\n",
      "20190604211323  |  29.962\n",
      "20190604211330  |  28.060\n",
      "20190604211338  |  28.060\n",
      "20190604211345  |  27.584\n",
      "20190604211353  |  28.535\n",
      "20190604211400  |  29.011\n",
      "20190604211407  |  27.584\n",
      "20190604211415  |  27.584\n",
      "20190604211422  |  28.535\n",
      "20190604211430  |  28.060\n",
      "20190604211437  |  28.060\n",
      "20190604211445  |  28.060\n",
      "20190604211453  |  28.060\n",
      "20190604211500  |  29.011\n",
      "20190604211508  |  28.535\n",
      "20190604211515  |  28.060\n",
      "20190604211523  |  28.060\n",
      "20190604211531  |  28.060\n",
      "20190604211538  |  26.157\n",
      "20190604211545  |  27.584\n",
      "20190604211553  |  28.060\n",
      "20190604211600  |  28.535\n",
      "20190604211608  |  28.060\n",
      "20190604211615  |  28.060\n",
      "20190604211623  |  29.011\n",
      "20190604211630  |  28.060\n",
      "20190604211637  |  28.060\n",
      "20190604211645  |  28.060\n",
      "20190604211652  |  28.535\n",
      "20190604211700  |  28.060\n",
      "20190604211707  |  29.011\n",
      "20190604211715  |  29.011\n",
      "20190604211722  |  28.535\n",
      "20190604211730  |  29.011\n",
      "20190604211737  |  28.535\n",
      "20190604211744  |  29.011\n",
      "20190604211753  |  27.584\n",
      "20190604211800  |  27.584\n",
      "20190604211807  |  27.584\n",
      "20190604211815  |  28.535\n",
      "20190604211822  |  27.584\n",
      "20190604211830  |  29.011\n",
      "20190604211837  |  28.060\n",
      "20190604211845  |  27.584\n",
      "20190604211852  |  29.011\n",
      "20190604211900  |  28.060\n",
      "20190604211907  |  29.962\n",
      "20190604211914  |  28.060\n",
      "20190604211922  |  29.962\n",
      "20190604211929  |  29.962\n",
      "20190604211937  |  28.060\n",
      "20190604211944  |  29.962\n",
      "20190604211952  |  29.011\n",
      "20190604211959  |  29.011\n",
      "20190604212007  |  29.011\n",
      "20190604212014  |  28.535\n",
      "20190604212022  |  28.535\n",
      "20190604212030  |  29.011\n",
      "20190604212037  |  28.060\n",
      "20190604212044  |  28.060\n",
      "20190604212052  |  29.486\n",
      "20190604212059  |  28.535\n",
      "20190604212107  |  29.011\n"
     ]
    }
   ],
   "source": [
    "import sys \n",
    "import sqlite3\n",
    "import locale\n",
    "import json\n",
    "import datetime\n",
    "\n",
    "conn = sqlite3.connect('sqliteLTECatM1')\n",
    "conn.execute('''CREATE TABLE HOME(\n",
    "    LOCAL INT PRIMARY KEY NOT NULL, \n",
    "    TEMP INT NOT NULL\n",
    "    );''')\n",
    "print(\"Table created successfully\");\n",
    "conn.close()\n",
    "\n",
    "conn = sqlite3.connect('sqliteLTECatM1')\n",
    "print(\"Database opend successfully\")\n",
    "print(\"\")\n",
    "print(\"INSERT OPERATION\")\n",
    "print(\"     Date       | Temperature[°C]:\")\n",
    "print(\"==================================\")\n",
    "\n",
    "try:\n",
    "    import paho.mqtt.subscribe as subscribe\n",
    "except ImportError:\n",
    "    # This part is only required to run the example from within the examples\n",
    "    # directory when the module itself is not installed.\n",
    "    #\n",
    "    # If you have the module installed, just use \"import paho.mqtt.subscribe\"\n",
    "    import os\n",
    "    import inspect\n",
    "    cmd_subfolder = os.path.realpath(os.path.abspath(os.path.join(os.path.split(inspect.getfile( inspect.currentframe() ))[0],\"../src\")))\n",
    "    if cmd_subfolder not in sys.path:\n",
    "        sys.path.insert(0, cmd_subfolder)\n",
    "    import paho.mqtt.subscribe as subscribe\n",
    "    import paho.mqtt.client\n",
    "\n",
    "def print_msg(client, userdata, message):\n",
    "    #print(\"%s : %s\" % (message.topic, message.payload))\n",
    "    data = message.payload\n",
    "    # {\"device\":\"catm1\",\"temperature\":\"29.011\"}\n",
    "    local = datetime.datetime.now().strftime(\"%Y%m%d%H%M%S\")\n",
    "       \n",
    "    jsonData = json.loads(data)\n",
    "    temp = str(jsonData['temperature'])         \n",
    "    \n",
    "    print(local,\" | \",temp)\n",
    "    \n",
    "    str1 = \"INSERT INTO HOME (LOCAL,TEMP) \\\n",
    "      VALUES (\"\n",
    "    str2 = local \n",
    "    str3 = \", \"\n",
    "    str4 = temp\n",
    "    str5 = \" )\"\n",
    "    insert = str1 + str2 + str3 + str4 + str5\n",
    "    conn.execute(insert)\n",
    "    conn.commit()\n",
    "\n",
    "subscribe.callback(print_msg, \"catm1topic\", hostname=\"broker.hivemq.com\")"
   ]
  },
  {
   "cell_type": "markdown",
   "metadata": {},
   "source": [
    "## SELECT QUERY\n",
    "\n",
    "* SQLite <b>SELECT</b> statement is used to <b>fetch</b> the data from a SQLite database table which returns data in the form of a result table. These result tables are also called result sets."
   ]
  },
  {
   "cell_type": "code",
   "execution_count": 1,
   "metadata": {
    "scrolled": false
   },
   "outputs": [
    {
     "name": "stdout",
     "output_type": "stream",
     "text": [
      "Opened database successfully\n",
      "\n",
      "     Date       | Temperature[°C]:\n",
      "==================================\n",
      "20190604205814  |  25.206\n",
      "20190604205822  |  25.206\n",
      "20190604205829  |  25.206\n",
      "20190604205837  |  26.157\n",
      "20190604205844  |  24.255\n",
      "20190604205851  |  26.157\n",
      "20190604205859  |  25.682\n",
      "20190604205906  |  26.157\n",
      "20190604205914  |  24.255\n",
      "20190604205921  |  24.73\n",
      "20190604205929  |  25.682\n",
      "20190604205936  |  26.157\n",
      "20190604205944  |  25.682\n",
      "20190604205951  |  26.633\n",
      "20190604205959  |  24.73\n",
      "20190604210006  |  26.633\n",
      "20190604210013  |  26.633\n",
      "20190604210021  |  24.73\n",
      "20190604210028  |  24.73\n",
      "20190604210036  |  26.157\n",
      "20190604210043  |  26.157\n",
      "20190604210051  |  26.157\n",
      "20190604210058  |  24.73\n",
      "20190604210106  |  26.157\n",
      "20190604210113  |  26.157\n",
      "20190604210120  |  26.157\n",
      "20190604210128  |  26.633\n",
      "20190604210135  |  27.108\n",
      "20190604210143  |  24.73\n",
      "20190604210150  |  25.682\n",
      "20190604210158  |  26.157\n",
      "20190604210205  |  27.108\n",
      "20190604210212  |  26.157\n",
      "20190604210220  |  25.682\n",
      "20190604210227  |  25.682\n",
      "20190604210235  |  27.108\n",
      "20190604210242  |  26.633\n",
      "20190604210250  |  26.157\n",
      "20190604210257  |  27.108\n",
      "20190604210305  |  26.633\n",
      "20190604210312  |  26.157\n",
      "20190604210320  |  26.157\n",
      "20190604210327  |  27.584\n",
      "20190604210334  |  26.633\n",
      "20190604210342  |  26.633\n",
      "20190604210349  |  26.157\n",
      "20190604210357  |  27.108\n",
      "20190604210404  |  26.633\n",
      "20190604210412  |  27.108\n",
      "20190604210419  |  26.633\n",
      "20190604210427  |  28.06\n",
      "20190604210434  |  26.633\n",
      "20190604210441  |  27.108\n",
      "20190604210449  |  28.06\n",
      "20190604210456  |  26.157\n",
      "20190604210504  |  27.584\n",
      "20190604210511  |  26.633\n",
      "20190604210519  |  27.584\n",
      "20190604210526  |  26.633\n",
      "20190604210534  |  26.157\n",
      "20190604210541  |  26.633\n",
      "20190604210548  |  26.633\n",
      "20190604210556  |  26.633\n",
      "20190604210604  |  27.584\n",
      "20190604210611  |  27.108\n",
      "20190604210618  |  27.108\n",
      "20190604210626  |  27.108\n",
      "20190604210634  |  28.06\n",
      "20190604210641  |  26.157\n",
      "20190604210649  |  27.108\n",
      "20190604210656  |  28.06\n",
      "20190604210703  |  27.108\n",
      "20190604210711  |  26.633\n",
      "20190604210718  |  27.584\n",
      "20190604210726  |  26.157\n",
      "20190604210733  |  27.584\n",
      "20190604210741  |  28.535\n",
      "20190604210748  |  28.06\n",
      "20190604210756  |  27.584\n",
      "20190604210803  |  28.06\n",
      "20190604210810  |  29.011\n",
      "20190604210818  |  28.06\n",
      "20190604210825  |  28.06\n",
      "20190604210833  |  27.108\n",
      "20190604210840  |  28.535\n",
      "20190604210848  |  27.584\n",
      "20190604210855  |  27.584\n",
      "20190604210902  |  27.584\n",
      "20190604210910  |  26.157\n",
      "20190604210917  |  27.108\n",
      "20190604210925  |  26.633\n",
      "20190604210932  |  26.157\n",
      "20190604210940  |  28.535\n",
      "20190604210947  |  29.011\n",
      "20190604210954  |  27.108\n",
      "20190604211002  |  27.584\n",
      "20190604211009  |  27.584\n",
      "20190604211017  |  28.06\n",
      "20190604211024  |  28.535\n",
      "20190604211032  |  27.584\n",
      "20190604211039  |  28.06\n",
      "20190604211047  |  28.06\n",
      "20190604211054  |  25.682\n",
      "20190604211101  |  27.584\n",
      "20190604211109  |  25.682\n",
      "20190604211116  |  27.108\n",
      "20190604211124  |  27.108\n",
      "20190604211131  |  27.584\n",
      "20190604211139  |  29.011\n",
      "20190604211146  |  27.584\n",
      "20190604211153  |  27.584\n",
      "20190604211201  |  27.108\n",
      "20190604211208  |  26.633\n",
      "20190604211216  |  27.108\n",
      "20190604211223  |  28.06\n",
      "20190604211231  |  29.011\n",
      "20190604211238  |  28.06\n",
      "20190604211246  |  28.06\n",
      "20190604211253  |  27.584\n",
      "20190604211300  |  26.633\n",
      "20190604211308  |  27.584\n",
      "20190604211315  |  28.06\n",
      "20190604211323  |  29.962\n",
      "20190604211330  |  28.06\n",
      "20190604211338  |  28.06\n",
      "20190604211345  |  27.584\n",
      "20190604211353  |  28.535\n",
      "20190604211400  |  29.011\n",
      "20190604211407  |  27.584\n",
      "20190604211415  |  27.584\n",
      "20190604211422  |  28.535\n",
      "20190604211430  |  28.06\n",
      "20190604211437  |  28.06\n",
      "20190604211445  |  28.06\n",
      "20190604211453  |  28.06\n",
      "20190604211500  |  29.011\n",
      "20190604211508  |  28.535\n",
      "20190604211515  |  28.06\n",
      "20190604211523  |  28.06\n",
      "20190604211531  |  28.06\n",
      "20190604211538  |  26.157\n",
      "20190604211545  |  27.584\n",
      "20190604211553  |  28.06\n",
      "20190604211600  |  28.535\n",
      "20190604211608  |  28.06\n",
      "20190604211615  |  28.06\n",
      "20190604211623  |  29.011\n",
      "20190604211630  |  28.06\n",
      "20190604211637  |  28.06\n",
      "20190604211645  |  28.06\n",
      "20190604211652  |  28.535\n",
      "20190604211700  |  28.06\n",
      "20190604211707  |  29.011\n",
      "20190604211715  |  29.011\n",
      "20190604211722  |  28.535\n",
      "20190604211730  |  29.011\n",
      "20190604211737  |  28.535\n",
      "20190604211744  |  29.011\n",
      "20190604211753  |  27.584\n",
      "20190604211800  |  27.584\n",
      "20190604211807  |  27.584\n",
      "20190604211815  |  28.535\n",
      "20190604211822  |  27.584\n",
      "20190604211830  |  29.011\n",
      "20190604211837  |  28.06\n",
      "20190604211845  |  27.584\n",
      "20190604211852  |  29.011\n",
      "20190604211900  |  28.06\n",
      "20190604211907  |  29.962\n",
      "20190604211914  |  28.06\n",
      "20190604211922  |  29.962\n",
      "20190604211929  |  29.962\n",
      "20190604211937  |  28.06\n",
      "20190604211944  |  29.962\n",
      "20190604211952  |  29.011\n",
      "20190604211959  |  29.011\n",
      "20190604212007  |  29.011\n",
      "20190604212014  |  28.535\n",
      "20190604212022  |  28.535\n",
      "20190604212030  |  29.011\n",
      "20190604212037  |  28.06\n",
      "20190604212044  |  28.06\n",
      "20190604212052  |  29.486\n",
      "20190604212059  |  28.535\n",
      "20190604212107  |  29.011\n",
      "20190604212114  |  28.06\n",
      "20190604212122  |  29.486\n"
     ]
    }
   ],
   "source": [
    "#!/usr/bin/python\n",
    "\n",
    "import sqlite3\n",
    "\n",
    "conn = sqlite3.connect('sqliteLTECatM1')\n",
    "print(\"Opened database successfully\")\n",
    "print(\"\")\n",
    "print(\"     Date       | Temperature[°C]:\")\n",
    "print(\"==================================\")\n",
    "cursor = conn.execute(\"SELECT * from HOME WHERE TEMP\")\n",
    "for row in cursor:\n",
    "    print(row[0],\" | \",row[1])\n",
    "    \n",
    "conn.close()"
   ]
  },
  {
   "cell_type": "markdown",
   "metadata": {},
   "source": [
    "## SELECT QUERY & PUSH DATA INTO BOX"
   ]
  },
  {
   "cell_type": "code",
   "execution_count": 2,
   "metadata": {
    "scrolled": false
   },
   "outputs": [
    {
     "name": "stdout",
     "output_type": "stream",
     "text": [
      "Opened database successfully\n",
      "\n",
      "x(time) = \n",
      "[1, 2, 3, 4, 5, 6, 7, 8, 9, 10, 11, 12, 13, 14, 15, 16, 17, 18, 19, 20, 21, 22, 23, 24, 25, 26, 27, 28, 29, 30, 31, 32, 33, 34, 35, 36, 37, 38, 39, 40, 41, 42, 43, 44, 45, 46, 47, 48, 49, 50, 51, 52, 53, 54, 55, 56, 57, 58, 59, 60, 61, 62, 63, 64, 65, 66, 67, 68, 69, 70, 71, 72, 73, 74, 75, 76, 77, 78, 79, 80, 81, 82, 83, 84, 85, 86, 87, 88, 89, 90, 91, 92, 93, 94, 95, 96, 97, 98, 99, 100, 101, 102, 103, 104, 105, 106, 107, 108, 109, 110, 111, 112, 113, 114, 115, 116, 117, 118, 119, 120, 121, 122, 123, 124, 125, 126, 127, 128, 129, 130, 131, 132, 133, 134, 135, 136, 137, 138, 139, 140, 141, 142, 143, 144, 145, 146, 147, 148, 149, 150, 151, 152, 153, 154, 155, 156, 157, 158, 159, 160, 161, 162, 163, 164, 165, 166, 167, 168, 169, 170, 171, 172, 173, 174, 175, 176, 177, 178, 179, 180, 181, 182, 183, 184, 185, 186, 187]\n",
      "\n",
      "y1(Temperature) = \n",
      "[25.206, 25.206, 25.206, 26.157, 24.255, 26.157, 25.682, 26.157, 24.255, 24.73, 25.682, 26.157, 25.682, 26.633, 24.73, 26.633, 26.633, 24.73, 24.73, 26.157, 26.157, 26.157, 24.73, 26.157, 26.157, 26.157, 26.633, 27.108, 24.73, 25.682, 26.157, 27.108, 26.157, 25.682, 25.682, 27.108, 26.633, 26.157, 27.108, 26.633, 26.157, 26.157, 27.584, 26.633, 26.633, 26.157, 27.108, 26.633, 27.108, 26.633, 28.06, 26.633, 27.108, 28.06, 26.157, 27.584, 26.633, 27.584, 26.633, 26.157, 26.633, 26.633, 26.633, 27.584, 27.108, 27.108, 27.108, 28.06, 26.157, 27.108, 28.06, 27.108, 26.633, 27.584, 26.157, 27.584, 28.535, 28.06, 27.584, 28.06, 29.011, 28.06, 28.06, 27.108, 28.535, 27.584, 27.584, 27.584, 26.157, 27.108, 26.633, 26.157, 28.535, 29.011, 27.108, 27.584, 27.584, 28.06, 28.535, 27.584, 28.06, 28.06, 25.682, 27.584, 25.682, 27.108, 27.108, 27.584, 29.011, 27.584, 27.584, 27.108, 26.633, 27.108, 28.06, 29.011, 28.06, 28.06, 27.584, 26.633, 27.584, 28.06, 29.962, 28.06, 28.06, 27.584, 28.535, 29.011, 27.584, 27.584, 28.535, 28.06, 28.06, 28.06, 28.06, 29.011, 28.535, 28.06, 28.06, 28.06, 26.157, 27.584, 28.06, 28.535, 28.06, 28.06, 29.011, 28.06, 28.06, 28.06, 28.535, 28.06, 29.011, 29.011, 28.535, 29.011, 28.535, 29.011, 27.584, 27.584, 27.584, 28.535, 27.584, 29.011, 28.06, 27.584, 29.011, 28.06, 29.962, 28.06, 29.962, 29.962, 28.06, 29.962, 29.011, 29.011, 29.011, 28.535, 28.535, 29.011, 28.06, 28.06, 29.486, 28.535, 29.011, 28.06, 29.486]\n",
      "\n",
      "The temperature data is ascending.\n"
     ]
    }
   ],
   "source": [
    "import sqlite3\n",
    "\n",
    "class Stack:\n",
    "    \n",
    "    def __init__(self):\n",
    "        self.items = []\n",
    "\n",
    "    def isEmpty(self):\n",
    "        return self.items == []\n",
    "\n",
    "    def push(self, item):\n",
    "        self.items.append(item)\n",
    "\n",
    "    def pop(self, item):\n",
    "        return self.items.pop(item)\n",
    "\n",
    "    def peek(self):\n",
    "        return self.items[len(self.items)-1]\n",
    "\n",
    "    def size(self):\n",
    "        return len(self.items)\n",
    "\n",
    "\n",
    "tempBox = Stack()\n",
    "temPopBox = Stack() \n",
    "timeBox = Stack()\n",
    "\n",
    "conn = sqlite3.connect('sqliteLTECatM1')\n",
    "print(\"Opened database successfully\")\n",
    "print(\"\")\n",
    "\n",
    "cursor = conn.execute(\"SELECT * from HOME WHERE TEMP\")\n",
    "for row in cursor:\n",
    "    tempBox.push(row[1])\n",
    "    temPopBox.push(row[1])\n",
    "    \n",
    "    #print(row[0],row[1],row[2])\n",
    "\n",
    "# Making time = 1,2,3,4 .... n    \n",
    "max = len(tempBox.items)\n",
    "\n",
    "for count in range(1,max+1):\n",
    "    timeBox.push(count)\n",
    "print(\"x(time) = \")    \n",
    "print(timeBox.items)\n",
    "print(\"\")\n",
    "print(\"y1(Temperature) = \") \n",
    "print(tempBox.items)\n",
    "print(\"\")\n",
    "\n",
    "xTime = timeBox.items\n",
    "y1Data = tempBox.items\n",
    "\n",
    "# Comparing between max and min in tData\n",
    "highTemBit = y1Data.pop(max-1)\n",
    "lowTemBit = y1Data.pop(0)\n",
    "\n",
    "\n",
    "if highTemBit > lowTemBit:\n",
    "    print(\"The temperature data is ascending.\")\n",
    "\n",
    "elif highTemBit < lowTemBit:\n",
    "    print(\"The temperature data is descending.\")\n",
    "    \n",
    "elif highTemBit == lowTemBit:\n",
    "    print(\"The temperature data is stable.\")\n",
    "    \n",
    "conn.close()"
   ]
  },
  {
   "cell_type": "code",
   "execution_count": 3,
   "metadata": {
    "scrolled": true
   },
   "outputs": [
    {
     "name": "stdout",
     "output_type": "stream",
     "text": [
      "Max & Min Temperature:\n",
      "29.486\n",
      "25.206\n"
     ]
    }
   ],
   "source": [
    "print(\"Max & Min Temperature:\")\n",
    "print(highTemBit)\n",
    "print(lowTemBit)"
   ]
  },
  {
   "cell_type": "markdown",
   "metadata": {},
   "source": [
    "## Export CSV file"
   ]
  },
  {
   "cell_type": "code",
   "execution_count": 4,
   "metadata": {},
   "outputs": [],
   "source": [
    "import sqlite3\n",
    "import csv\n",
    "\n",
    "sqlconnector = sqlite3.connect('sqliteLTECatM1')\n",
    "sql3_cursor = sqlconnector.cursor()\n",
    "sql3_cursor.execute('SELECT * FROM HOME')\n",
    "with open('temp_catm1.csv','w') as out_csv_file:\n",
    "  csv_out = csv.writer(out_csv_file)\n",
    "  # write header                        \n",
    "  csv_out.writerow([d[0] for d in sql3_cursor.description])\n",
    "  # write data                          \n",
    "  for result in sql3_cursor:\n",
    "    csv_out.writerow(result)\n",
    "sqlconnector.close()"
   ]
  },
  {
   "cell_type": "code",
   "execution_count": 5,
   "metadata": {
    "scrolled": true
   },
   "outputs": [
    {
     "name": "stdout",
     "output_type": "stream",
     "text": [
      "mydb_hum.csv   mydb_temp.csv  pm10.csv       pm25.csv       temp_catm1.csv\r\n"
     ]
    }
   ],
   "source": [
    "!ls *.csv"
   ]
  },
  {
   "cell_type": "code",
   "execution_count": null,
   "metadata": {},
   "outputs": [],
   "source": [
    "!cat temp_catm1.csv"
   ]
  },
  {
   "cell_type": "code",
   "execution_count": 9,
   "metadata": {
    "scrolled": false
   },
   "outputs": [
    {
     "name": "stdout",
     "output_type": "stream",
     "text": [
      "count    187.000000\n",
      "mean      27.406011\n",
      "std        1.215017\n",
      "min       24.255000\n",
      "25%       26.633000\n",
      "50%       27.584000\n",
      "75%       28.060000\n",
      "max       29.962000\n",
      "Name: TEMP, dtype: float64\n"
     ]
    }
   ],
   "source": [
    "# create and evaluate an updated autoregressive model\n",
    "import pandas as pa\n",
    "import matplotlib as plot\n",
    "from pandas import read_csv\n",
    "from matplotlib import pyplot\n",
    "from statsmodels.tsa.ar_model import AR\n",
    "from sklearn.metrics import mean_squared_error\n",
    "from math import sqrt\n",
    "# load dataset\n",
    "series = read_csv('temp_catm1.csv', header=0, index_col=0, parse_dates=True, squeeze=True)\n",
    "#\n",
    "# view basic stats information on data\n",
    "print(series.describe())"
   ]
  },
  {
   "cell_type": "code",
   "execution_count": 10,
   "metadata": {
    "scrolled": true
   },
   "outputs": [
    {
     "data": {
      "text/plain": [
       "LOCAL\n",
       "2019-06-04 20:58:14    25.206\n",
       "2019-06-04 20:58:22    25.206\n",
       "2019-06-04 20:58:29    25.206\n",
       "2019-06-04 20:58:37    26.157\n",
       "2019-06-04 20:58:44    24.255\n",
       "Name: TEMP, dtype: float64"
      ]
     },
     "execution_count": 10,
     "metadata": {},
     "output_type": "execute_result"
    }
   ],
   "source": [
    "#get data\n",
    "def GetData(fileName):\n",
    "    return read_csv(fileName, header=0, parse_dates=[0], index_col=0)\n",
    "\n",
    "#read time series from the exchange.csv file \n",
    "\n",
    "#view top 10 records\n",
    "series.head(5)"
   ]
  },
  {
   "cell_type": "code",
   "execution_count": 11,
   "metadata": {
    "scrolled": false
   },
   "outputs": [
    {
     "data": {
      "image/png": "[encoded data removed]",
      "text/plain": [
       "<matplotlib.figure.Figure at 0x113a44e10>"
      ]
     },
     "metadata": {
      "needs_background": "light"
     },
     "output_type": "display_data"
    }
   ],
   "source": [
    "# create a histogram plot\n",
    "from pandas import read_csv\n",
    "from matplotlib import pyplot\n",
    "series = read_csv('temp_catm1.csv', header=0, index_col=0, parse_dates=True, squeeze=True)\n",
    "series.hist()\n",
    "pyplot.show()"
   ]
  },
  {
   "cell_type": "code",
   "execution_count": 12,
   "metadata": {
    "scrolled": true
   },
   "outputs": [
    {
     "data": {
      "image/png": "[encoded data removed]",
      "text/plain": [
       "<matplotlib.figure.Figure at 0x113a186d8>"
      ]
     },
     "metadata": {
      "needs_background": "light"
     },
     "output_type": "display_data"
    }
   ],
   "source": [
    "# create a density plot\n",
    "from pandas import read_csv\n",
    "from matplotlib import pyplot\n",
    "series = read_csv('temp_catm1.csv', header=0, index_col=0, parse_dates=True, squeeze=True)\n",
    "series.plot(kind='kde')\n",
    "pyplot.show()"
   ]
  },
  {
   "cell_type": "code",
   "execution_count": 13,
   "metadata": {
    "scrolled": true
   },
   "outputs": [
    {
     "data": {
      "image/png": "[encoded data removed]",
      "text/plain": [
       "<matplotlib.figure.Figure at 0x113b65438>"
      ]
     },
     "metadata": {
      "needs_background": "light"
     },
     "output_type": "display_data"
    }
   ],
   "source": [
    "from pandas import Series\n",
    "from matplotlib import pyplot\n",
    "from pandas.plotting import lag_plot\n",
    "lag_plot(series)\n",
    "pyplot.show()"
   ]
  },
  {
   "cell_type": "code",
   "execution_count": 14,
   "metadata": {
    "scrolled": true
   },
   "outputs": [
    {
     "name": "stdout",
     "output_type": "stream",
     "text": [
      "          t     t+1\n",
      "0       NaN  25.206\n",
      "1    25.206  25.206\n",
      "2    25.206  25.206\n",
      "3    25.206  26.157\n",
      "4    26.157  24.255\n",
      "5    24.255  26.157\n",
      "6    26.157  25.682\n",
      "7    25.682  26.157\n",
      "8    26.157  24.255\n",
      "9    24.255  24.730\n",
      "10   24.730  25.682\n",
      "11   25.682  26.157\n",
      "12   26.157  25.682\n",
      "13   25.682  26.633\n",
      "14   26.633  24.730\n",
      "15   24.730  26.633\n",
      "16   26.633  26.633\n",
      "17   26.633  24.730\n",
      "18   24.730  24.730\n",
      "19   24.730  26.157\n",
      "20   26.157  26.157\n",
      "21   26.157  26.157\n",
      "22   26.157  24.730\n",
      "23   24.730  26.157\n",
      "24   26.157  26.157\n",
      "25   26.157  26.157\n",
      "26   26.157  26.633\n",
      "27   26.633  27.108\n",
      "28   27.108  24.730\n",
      "29   24.730  25.682\n",
      "..      ...     ...\n",
      "157  28.535  29.011\n",
      "158  29.011  27.584\n",
      "159  27.584  27.584\n",
      "160  27.584  27.584\n",
      "161  27.584  28.535\n",
      "162  28.535  27.584\n",
      "163  27.584  29.011\n",
      "164  29.011  28.060\n",
      "165  28.060  27.584\n",
      "166  27.584  29.011\n",
      "167  29.011  28.060\n",
      "168  28.060  29.962\n",
      "169  29.962  28.060\n",
      "170  28.060  29.962\n",
      "171  29.962  29.962\n",
      "172  29.962  28.060\n",
      "173  28.060  29.962\n",
      "174  29.962  29.011\n",
      "175  29.011  29.011\n",
      "176  29.011  29.011\n",
      "177  29.011  28.535\n",
      "178  28.535  28.535\n",
      "179  28.535  29.011\n",
      "180  29.011  28.060\n",
      "181  28.060  28.060\n",
      "182  28.060  29.486\n",
      "183  29.486  28.535\n",
      "184  28.535  29.011\n",
      "185  29.011  28.060\n",
      "186  28.060  29.486\n",
      "\n",
      "[187 rows x 2 columns]\n"
     ]
    }
   ],
   "source": [
    "# correlation of lag=1\n",
    "from pandas import read_csv\n",
    "from pandas import DataFrame\n",
    "from pandas import concat\n",
    "series = read_csv('temp_catm1.csv', header=0, index_col=0, parse_dates=True, squeeze=True)\n",
    "values = DataFrame(series.values)\n",
    "dataframe = concat([values.shift(1), values], axis=1)\n",
    "dataframe.columns = ['t', 't+1']\n",
    "result = dataframe\n",
    "print(result)"
   ]
  },
  {
   "cell_type": "markdown",
   "metadata": {},
   "source": [
    "### Autocorrelation (자기상관도)"
   ]
  },
  {
   "cell_type": "code",
   "execution_count": 16,
   "metadata": {
    "scrolled": false
   },
   "outputs": [
    {
     "data": {
      "image/png": "[encoded data removed]",
      "text/plain": [
       "<matplotlib.figure.Figure at 0x1141be2e8>"
      ]
     },
     "metadata": {
      "needs_background": "light"
     },
     "output_type": "display_data"
    }
   ],
   "source": [
    "# autocorrelation plot of time series\n",
    "from pandas import read_csv\n",
    "from matplotlib import pyplot\n",
    "from statsmodels.graphics.tsaplots import plot_acf\n",
    "series = read_csv('temp_catm1.csv', header=0, index_col=0, parse_dates=True, squeeze=True)\n",
    "plot_acf(series, lags=186)\n",
    "pyplot.show()"
   ]
  },
  {
   "cell_type": "code",
   "execution_count": 17,
   "metadata": {},
   "outputs": [
    {
     "data": {
      "image/png": "[encoded data removed]",
      "text/plain": [
       "<matplotlib.figure.Figure at 0x11436d550>"
      ]
     },
     "metadata": {
      "needs_background": "light"
     },
     "output_type": "display_data"
    }
   ],
   "source": [
    "# autocorrelation plot of time series\n",
    "from pandas import read_csv\n",
    "from matplotlib import pyplot\n",
    "from pandas.plotting import autocorrelation_plot\n",
    "series = read_csv('temp_catm1.csv', header=0, index_col=0, parse_dates=True, squeeze=True)\n",
    "autocorrelation_plot(series)\n",
    "pyplot.show()"
   ]
  },
  {
   "cell_type": "code",
   "execution_count": 6,
   "metadata": {
    "scrolled": false
   },
   "outputs": [
    {
     "name": "stdout",
     "output_type": "stream",
     "text": [
      "{sensor:25.682000,prediction:24.777291}\n",
      "{sensor:26.633000,prediction:23.926544}\n",
      "{sensor:24.730000,prediction:24.790333}\n",
      "{sensor:26.633000,prediction:24.801885}\n",
      "{sensor:26.633000,prediction:25.621826}\n",
      "{sensor:24.730000,prediction:26.026140}\n",
      "{sensor:24.730000,prediction:24.393889}\n",
      "{sensor:26.157000,prediction:25.824467}\n",
      "{sensor:26.157000,prediction:27.005633}\n",
      "{sensor:26.157000,prediction:25.056364}\n",
      "{sensor:24.730000,prediction:24.302850}\n",
      "{sensor:26.157000,prediction:24.884708}\n",
      "{sensor:26.157000,prediction:25.863827}\n",
      "{sensor:26.157000,prediction:25.839102}\n",
      "{sensor:26.633000,prediction:24.725133}\n",
      "{sensor:27.108000,prediction:25.256555}\n",
      "{sensor:24.730000,prediction:25.481336}\n",
      "{sensor:25.682000,prediction:24.915406}\n",
      "{sensor:26.157000,prediction:26.413978}\n",
      "{sensor:27.108000,prediction:27.139370}\n",
      "{sensor:26.157000,prediction:25.392312}\n",
      "{sensor:25.682000,prediction:24.714857}\n",
      "{sensor:25.682000,prediction:25.259587}\n",
      "{sensor:27.108000,prediction:26.293330}\n",
      "{sensor:26.633000,prediction:26.470724}\n",
      "{sensor:26.157000,prediction:25.366082}\n",
      "{sensor:27.108000,prediction:25.009063}\n",
      "{sensor:26.633000,prediction:26.221237}\n",
      "{sensor:26.157000,prediction:26.049101}\n",
      "{sensor:26.157000,prediction:25.659939}\n",
      "{sensor:27.584000,prediction:26.601627}\n",
      "{sensor:26.633000,prediction:26.750705}\n",
      "{sensor:26.633000,prediction:25.627078}\n",
      "{sensor:26.157000,prediction:25.581418}\n",
      "{sensor:27.108000,prediction:26.619295}\n",
      "{sensor:26.633000,prediction:26.710860}\n",
      "{sensor:27.108000,prediction:26.232579}\n",
      "{sensor:26.633000,prediction:26.003667}\n",
      "{sensor:28.060000,prediction:26.219551}\n",
      "{sensor:26.633000,prediction:26.429297}\n",
      "{sensor:27.108000,prediction:26.046374}\n",
      "{sensor:28.060000,prediction:26.271079}\n",
      "{sensor:26.157000,prediction:27.353348}\n",
      "{sensor:27.584000,prediction:26.194833}\n",
      "{sensor:26.633000,prediction:26.813838}\n",
      "{sensor:27.584000,prediction:27.447814}\n",
      "{sensor:26.633000,prediction:26.456458}\n",
      "{sensor:26.157000,prediction:26.688080}\n",
      "{sensor:26.633000,prediction:26.526819}\n",
      "{sensor:26.633000,prediction:27.194979}\n",
      "{sensor:26.633000,prediction:26.875920}\n",
      "{sensor:27.584000,prediction:26.041777}\n",
      "{sensor:27.108000,prediction:26.316546}\n",
      "{sensor:27.108000,prediction:25.862163}\n",
      "{sensor:27.108000,prediction:25.844886}\n",
      "{sensor:28.060000,prediction:26.718559}\n",
      "{sensor:26.157000,prediction:26.863381}\n",
      "{sensor:27.108000,prediction:26.233961}\n",
      "{sensor:28.060000,prediction:26.952217}\n",
      "{sensor:27.108000,prediction:27.718918}\n",
      "{sensor:26.633000,prediction:26.031830}\n",
      "{sensor:27.584000,prediction:26.224650}\n",
      "{sensor:26.157000,prediction:27.651056}\n",
      "{sensor:27.584000,prediction:26.744683}\n",
      "{sensor:28.535000,prediction:26.830375}\n",
      "{sensor:28.060000,prediction:27.206302}\n",
      "{sensor:27.584000,prediction:25.599499}\n",
      "{sensor:28.060000,prediction:26.075370}\n",
      "{sensor:29.011000,prediction:27.612427}\n",
      "{sensor:28.060000,prediction:27.669178}\n",
      "{sensor:28.060000,prediction:26.934323}\n",
      "{sensor:27.108000,prediction:27.336774}\n",
      "{sensor:28.535000,prediction:28.159909}\n",
      "{sensor:27.584000,prediction:28.372180}\n",
      "{sensor:27.584000,prediction:27.756804}\n",
      "{sensor:27.584000,prediction:27.128298}\n",
      "{sensor:26.157000,prediction:27.837929}\n",
      "{sensor:27.108000,prediction:27.394783}\n",
      "{sensor:26.633000,prediction:27.738617}\n",
      "{sensor:26.157000,prediction:27.695821}\n",
      "{sensor:28.535000,prediction:26.422422}\n",
      "{sensor:29.011000,prediction:27.108076}\n",
      "{sensor:27.108000,prediction:26.167138}\n",
      "{sensor:27.584000,prediction:24.648785}\n",
      "{sensor:27.584000,prediction:26.965534}\n",
      "{sensor:28.060000,prediction:28.331872}\n",
      "{sensor:28.535000,prediction:27.378699}\n",
      "{sensor:27.584000,prediction:27.295670}\n",
      "{sensor:28.060000,prediction:26.873857}\n",
      "{sensor:28.060000,prediction:27.312284}\n",
      "{sensor:25.682000,prediction:27.944425}\n",
      "{sensor:27.584000,prediction:27.131775}\n",
      "{sensor:25.682000,prediction:28.380114}\n",
      "{sensor:27.108000,prediction:28.041475}\n",
      "{sensor:27.108000,prediction:26.715171}\n",
      "{sensor:27.584000,prediction:27.084036}\n",
      "{sensor:29.011000,prediction:25.839752}\n",
      "{sensor:27.584000,prediction:26.026418}\n",
      "{sensor:27.584000,prediction:25.797186}\n",
      "{sensor:27.108000,prediction:26.312842}\n",
      "{sensor:26.633000,prediction:28.020526}\n",
      "{sensor:27.108000,prediction:27.744955}\n",
      "{sensor:28.060000,prediction:27.806898}\n",
      "{sensor:29.011000,prediction:27.492823}\n",
      "{sensor:28.060000,prediction:26.374995}\n",
      "{sensor:28.060000,prediction:25.787617}\n",
      "{sensor:27.584000,prediction:26.692533}\n",
      "{sensor:26.633000,prediction:27.912149}\n",
      "{sensor:27.584000,prediction:27.889788}\n",
      "{sensor:28.060000,prediction:28.382347}\n",
      "{sensor:29.962000,prediction:27.927262}\n",
      "{sensor:28.060000,prediction:26.731363}\n",
      "{sensor:28.060000,prediction:25.926541}\n",
      "{sensor:27.584000,prediction:26.763842}\n",
      "{sensor:28.535000,prediction:28.685521}\n",
      "{sensor:29.011000,prediction:28.573139}\n",
      "{sensor:27.584000,prediction:27.976031}\n",
      "{sensor:27.584000,prediction:27.087858}\n",
      "{sensor:28.535000,prediction:27.734367}\n",
      "{sensor:28.060000,prediction:28.798860}\n",
      "{sensor:28.060000,prediction:27.595949}\n",
      "{sensor:28.060000,prediction:27.234334}\n",
      "{sensor:28.060000,prediction:27.884245}\n",
      "{sensor:29.011000,prediction:27.687908}\n",
      "{sensor:28.535000,prediction:27.758384}\n",
      "{sensor:28.060000,prediction:27.418689}\n",
      "{sensor:28.060000,prediction:27.270886}\n",
      "{sensor:28.060000,prediction:28.248812}\n",
      "{sensor:26.157000,prediction:28.379302}\n",
      "{sensor:27.584000,prediction:27.763172}\n",
      "{sensor:28.060000,prediction:28.543490}\n",
      "{sensor:28.535000,prediction:28.298845}\n",
      "{sensor:28.060000,prediction:26.404270}\n",
      "{sensor:28.060000,prediction:26.352955}\n",
      "{sensor:29.011000,prediction:27.060623}\n",
      "{sensor:28.060000,prediction:27.729008}\n",
      "{sensor:28.060000,prediction:27.400536}\n",
      "{sensor:28.060000,prediction:27.526082}\n",
      "{sensor:28.535000,prediction:28.423317}\n",
      "{sensor:28.060000,prediction:28.086385}\n",
      "{sensor:29.011000,prediction:27.616352}\n",
      "{sensor:29.011000,prediction:27.815258}\n",
      "{sensor:28.535000,prediction:27.747589}\n",
      "{sensor:29.011000,prediction:27.336700}\n",
      "{sensor:28.535000,prediction:28.156453}\n",
      "{sensor:29.011000,prediction:28.401474}\n",
      "{sensor:27.584000,prediction:28.263376}\n",
      "{sensor:27.584000,prediction:28.323375}\n",
      "{sensor:27.584000,prediction:28.535059}\n",
      "{sensor:28.535000,prediction:28.986432}\n",
      "{sensor:27.584000,prediction:28.243432}\n",
      "{sensor:29.011000,prediction:27.193799}\n",
      "{sensor:28.060000,prediction:27.380820}\n",
      "{sensor:27.584000,prediction:27.391221}\n",
      "{sensor:29.011000,prediction:27.085425}\n",
      "{sensor:28.060000,prediction:28.447086}\n",
      "{sensor:29.962000,prediction:27.768466}\n",
      "{sensor:28.060000,prediction:27.399058}\n",
      "{sensor:29.962000,prediction:27.584698}\n",
      "{sensor:29.962000,prediction:27.787439}\n",
      "{sensor:28.060000,prediction:28.619023}\n",
      "{sensor:29.962000,prediction:27.448438}\n",
      "{sensor:29.011000,prediction:29.175461}\n",
      "{sensor:29.011000,prediction:29.504249}\n",
      "{sensor:29.011000,prediction:28.067806}\n",
      "{sensor:28.535000,prediction:29.203440}\n",
      "{sensor:28.535000,prediction:28.914676}\n",
      "{sensor:29.011000,prediction:28.705894}\n",
      "{sensor:28.060000,prediction:29.017280}\n",
      "{sensor:28.060000,prediction:28.221103}\n",
      "{sensor:29.486000,prediction:28.293441}\n",
      "{sensor:28.535000,prediction:28.933586}\n",
      "{sensor:29.011000,prediction:27.694442}\n",
      "{sensor:28.060000,prediction:27.510453}\n",
      "{sensor:29.486000,prediction:28.388799}\n",
      "{TestRMSE:1.160}\n"
     ]
    },
    {
     "data": {
      "image/png": "[encoded data removed]",
      "text/plain": [
       "<matplotlib.figure.Figure at 0x113be63c8>"
      ]
     },
     "metadata": {
      "needs_background": "light"
     },
     "output_type": "display_data"
    }
   ],
   "source": [
    "# create and evaluate an updated autoregressive model\n",
    "from pandas import read_csv\n",
    "from matplotlib import pyplot\n",
    "from statsmodels.tsa.ar_model import AR\n",
    "from sklearn.metrics import mean_squared_error\n",
    "from math import sqrt\n",
    "\n",
    "# load dataset\n",
    "series = read_csv('temp_catm1.csv', header=0, index_col=0, parse_dates=True, squeeze=True)\n",
    "\n",
    "# split dataset\n",
    "X = series.values\n",
    "testLength = 175;\n",
    "train, test = X[1:len(X)-testLength], X[len(X)-testLength:]\n",
    "\n",
    "# train autoregression\n",
    "model = AR(train)\n",
    "model_fit = model.fit()\n",
    "window = model_fit.k_ar\n",
    "coef = model_fit.params\n",
    "\n",
    "# walk forward over time steps in test\n",
    "history = train[len(train)-window:]\n",
    "history = [history[i] for i in range(len(history))]\n",
    "predictions = list()\n",
    "for t in range(len(test)):\n",
    "    length = len(history)\n",
    "    lag = [history[i] for i in range(length-window,length)]\n",
    "    yhat = coef[0]\n",
    "    for d in range(window):\n",
    "        yhat += coef[d+1] * lag[window-d-1]\n",
    "    obs = test[t]\n",
    "    predictions.append(yhat)\n",
    "    history.append(obs)\n",
    "    print('{sensor:%f,prediction:%f}' % (obs, yhat))\n",
    "rmse = sqrt(mean_squared_error(test, predictions))\n",
    "\n",
    "print('{TestRMSE:%.3f}' % rmse)\n",
    "# plot\n",
    "pyplot.plot(test)\n",
    "pyplot.plot(predictions, color='red')\n",
    "pyplot.show()"
   ]
  },
  {
   "cell_type": "code",
   "execution_count": 21,
   "metadata": {
    "scrolled": true
   },
   "outputs": [
    {
     "name": "stdout",
     "output_type": "stream",
     "text": [
      "Test RMSE: 0.994\n"
     ]
    },
    {
     "data": {
      "image/png": "[encoded data removed]",
      "text/plain": [
       "<matplotlib.figure.Figure at 0x1144d7860>"
      ]
     },
     "metadata": {
      "needs_background": "light"
     },
     "output_type": "display_data"
    }
   ],
   "source": [
    "# evaluate a persistence model\n",
    "from pandas import read_csv\n",
    "from pandas import DataFrame\n",
    "from pandas import concat\n",
    "from matplotlib import pyplot\n",
    "from sklearn.metrics import mean_squared_error\n",
    "from math import sqrt\n",
    "\n",
    "# load dataset\n",
    "series = read_csv('temp_catm1.csv', header=0, index_col=0, parse_dates=True, squeeze=True)\n",
    "# create lagged dataset\n",
    "values = DataFrame(series.values)\n",
    "dataframe = concat([values.shift(1), values], axis=1)\n",
    "dataframe.columns = ['t', 't+1']\n",
    "# split into train and test sets\n",
    "X = dataframe.values\n",
    "testLength = 186;\n",
    "train, test = X[1:len(X)-testLength], X[len(X)-testLength:]\n",
    "train_X, train_y = train[:,0], train[:,1]\n",
    "test_X, test_y = test[:,0], test[:,1]\n",
    "# persistence model\n",
    "def model_persistence(x):\n",
    "    return x\n",
    "# walk-forward validation\n",
    "predictions = list()\n",
    "for x in test_X:\n",
    "    yhat = model_persistence(x)\n",
    "    predictions.append(yhat)\n",
    "rmse = sqrt(mean_squared_error(test_y, predictions))\n",
    "print('Test RMSE: %.3f' % rmse)\n",
    "# plot predictions vs expected\n",
    "pyplot.plot(test_y)\n",
    "pyplot.plot(predictions, color='red')\n",
    "pyplot.show()"
   ]
  },
  {
   "cell_type": "markdown",
   "metadata": {
    "collapsed": true
   },
   "source": [
    "## References"
   ]
  },
  {
   "cell_type": "markdown",
   "metadata": {},
   "source": [
    "* WIZnet IoT Shield for Arduino: https://github.com/Wiznet/wiznet-iot-shield-arduino-kr\n",
    "* How to Install SQLite On Windows/ Linux / Mac OS X: http://www.codebind.com/sqlite/how-to-install-sqlite-on/\n",
    "* SQLite Tutorial: https://www.tutorialspoint.com/sqlite/\n",
    "* SQLite Quick Guide: https://www.tutorialspoint.com/sqlite/sqlite_quick_guide.htm\n",
    "* SQLite - Python Tuotorial: https://www.tutorialspoint.com/sqlite/sqlite_python.htm\n",
    "* SQLite - Python Quick Guide: https://github.com/leehaesung/SQLite-Python_Quick_Guide\n",
    "* Get Started TensorFlow: https://www.tensorflow.org/get_started/get_started"
   ]
  },
  {
   "cell_type": "code",
   "execution_count": null,
   "metadata": {},
   "outputs": [],
   "source": [
    "# END"
   ]
  }
 ],
 "metadata": {
  "kernelspec": {
   "display_name": "Python 2",
   "language": "python",
   "name": "python2"
  },
  "language_info": {
   "codemirror_mode": {
    "name": "ipython",
    "version": 3
   },
   "file_extension": ".py",
   "mimetype": "text/x-python",
   "name": "python",
   "nbconvert_exporter": "python",
   "pygments_lexer": "ipython3",
   "version": "3.6.4"
  }
 },
 "nbformat": 4,
 "nbformat_minor": 2
}
